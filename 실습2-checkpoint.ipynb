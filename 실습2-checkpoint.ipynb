{
 "cells": [
  {
   "cell_type": "markdown",
   "metadata": {},
   "source": [
    "## 정규표현식"
   ]
  },
  {
   "cell_type": "code",
   "execution_count": 57,
   "metadata": {},
   "outputs": [
    {
     "data": {
      "text/plain": [
       "['010-1234-5678']"
      ]
     },
     "execution_count": 57,
     "metadata": {},
     "output_type": "execute_result"
    }
   ],
   "source": [
    "import re\n",
    "p = re.compile('010-?[0-9]{4}-?[0-9]{4}')\n",
    "p.findall('내 연락처는 010-1234-5678입니다')"
   ]
  },
  {
   "cell_type": "code",
   "execution_count": null,
   "metadata": {},
   "outputs": [],
   "source": [
    "import re\n",
    "p = re.compile('010-?[0-9]{4}-?[0-9]{4}')"
   ]
  },
  {
   "cell_type": "code",
   "execution_count": null,
   "metadata": {},
   "outputs": [],
   "source": [
    "#http://www.datamarket.kr/xe/board_lhOx96/50136\n"
   ]
  },
  {
   "cell_type": "code",
   "execution_count": 3,
   "metadata": {},
   "outputs": [
    {
     "data": {
      "text/plain": [
       "['010-12345678']"
      ]
     },
     "execution_count": 3,
     "metadata": {},
     "output_type": "execute_result"
    }
   ],
   "source": [
    "p.findall('내 연락처는 010-12345678입니다')"
   ]
  },
  {
   "cell_type": "code",
   "execution_count": 4,
   "metadata": {},
   "outputs": [
    {
     "name": "stdout",
     "output_type": "stream",
     "text": [
      "<_sre.SRE_Match object; span=(0, 6), match='python'>\n",
      "<_sre.SRE_Match object; span=(0, 6), match='python'>\n",
      "<_sre.SRE_Match object; span=(0, 6), match='python'>\n",
      "<_sre.SRE_Match object; span=(0, 6), match='python'>\n",
      "['life', 'is', 'too', 'short']\n",
      "<callable_iterator object at 0x0000027FE71357F0>\n"
     ]
    }
   ],
   "source": [
    "import re\n",
    "p = re.compile('[a-z]+')\n",
    "\n",
    "# match\n",
    "m = p.match(\"python\")\n",
    "print(m) # <_sre.SRE_Match object at 0x01F3F9F8> m이 정규식에 부합하므로 match 객체가 리턴된다.\n",
    "\n",
    "m = p.match(\"python 3\")\n",
    "print(m) # 3이라는 문자가 정규식 [a-z]+에 부합하지 않으므로 None이 리턴된다.\n",
    "\n",
    "m = p.search(\"python\")\n",
    "print(m) # m이 정규식에 부합하므로 search 객체가 리턴된다.\n",
    "\n",
    "m = p.search(\"python 3\")\n",
    "print(m) # 문자열 전체를 검색하기 때문에 \"python\"이라는 문자열과 매치\n",
    "\n",
    "result = p.findall(\"life is too short\")\n",
    "print(result) # 단어들이 각각 [a-z]+ 정규식과 매치되어 리스트로 리턴된다.\n",
    "\n",
    "result = p.finditer(\"life is too short\")\n",
    "print(result) # 반복 가능한 객체(iterator object)를 리턴한다."
   ]
  },
  {
   "cell_type": "code",
   "execution_count": 8,
   "metadata": {},
   "outputs": [
    {
     "name": "stdout",
     "output_type": "stream",
     "text": [
      "<_sre.SRE_Match object; span=(0, 6), match='python'>\n"
     ]
    }
   ],
   "source": [
    "# match\n",
    "m = p.match(\"python\")\n",
    "print(m) # <_sre.SRE_Match object at 0x01F3F9F8> m이 정규식에 부합하므로 match 객체가 리턴된다.\n"
   ]
  },
  {
   "cell_type": "code",
   "execution_count": 9,
   "metadata": {},
   "outputs": [
    {
     "name": "stdout",
     "output_type": "stream",
     "text": [
      "<_sre.SRE_Match object; span=(0, 6), match='python'>\n"
     ]
    }
   ],
   "source": [
    "m = p.match(\"python 3\")\n",
    "print(m) # 3이라는 문자가 정규식 [a-z]+에 부합하지 않으므로 None이 리턴된다.."
   ]
  },
  {
   "cell_type": "code",
   "execution_count": 10,
   "metadata": {},
   "outputs": [
    {
     "name": "stdout",
     "output_type": "stream",
     "text": [
      "<_sre.SRE_Match object; span=(0, 6), match='python'>\n"
     ]
    }
   ],
   "source": [
    "m = p.search(\"python 3\")\n",
    "print(m) # 문자열 전체를 검색하기 때문에 \"python\"이라는 문자열과 매치"
   ]
  },
  {
   "cell_type": "code",
   "execution_count": 13,
   "metadata": {},
   "outputs": [
    {
     "name": "stdout",
     "output_type": "stream",
     "text": [
      "<_sre.SRE_Match object; span=(0, 4), match='life'>\n",
      "<_sre.SRE_Match object; span=(0, 4), match='life'>\n",
      "['life', 'is', 'too', 'short']\n"
     ]
    }
   ],
   "source": [
    "result = p.match(\"life is too short\")\n",
    "print(result) # 단어들이 각각 [a-z]+ 정규식과 매치되어 리스트로 리턴된다.\n",
    "\n",
    "result = p.search(\"life is too short\")\n",
    "print(result) # 단어들이 각각 [a-z]+ 정규식과 매치되어 리스트로 리턴된다.\n",
    "result = p.finditer(\"life is too short\")\n",
    "print(result) # 반복 가능한 객체(iterator object)를 리턴한다.\n",
    "result = p.findall(\"life is too short\")\n",
    "print(result) # 단어들이 각각 [a-z]+ 정규식과 매치되어 리스트로 리턴된다."
   ]
  },
  {
   "cell_type": "code",
   "execution_count": 14,
   "metadata": {},
   "outputs": [
    {
     "name": "stdout",
     "output_type": "stream",
     "text": [
      "<callable_iterator object at 0x0000027FE7121A90>\n"
     ]
    }
   ],
   "source": [
    "result = p.finditer(\"life is too short\")\n",
    "print(result) # 반복 가능한 객체(iterator object)를 리턴한다."
   ]
  },
  {
   "cell_type": "markdown",
   "metadata": {},
   "source": [
    "## Crawling for Dynamic Web Page\n",
    "- Selenium + BeautifulSoup"
   ]
  },
  {
   "cell_type": "markdown",
   "metadata": {},
   "source": [
    "####  Selenium -> 네이버 메일 접속"
   ]
  },
  {
   "cell_type": "code",
   "execution_count": 1,
   "metadata": {},
   "outputs": [],
   "source": [
    "from selenium import webdriver\n",
    "from selenium.webdriver.common.keys import Keys"
   ]
  },
  {
   "cell_type": "code",
   "execution_count": 2,
   "metadata": {},
   "outputs": [
    {
     "ename": "WebDriverException",
     "evalue": "Message: 'chromedriver' executable needs to be in PATH. Please see https://sites.google.com/a/chromium.org/chromedriver/home\n",
     "output_type": "error",
     "traceback": [
      "\u001b[1;31m---------------------------------------------------------------------------\u001b[0m",
      "\u001b[1;31mFileNotFoundError\u001b[0m                         Traceback (most recent call last)",
      "\u001b[1;32m~\\Anaconda3\\lib\\site-packages\\selenium\\webdriver\\common\\service.py\u001b[0m in \u001b[0;36mstart\u001b[1;34m(self)\u001b[0m\n\u001b[0;32m     75\u001b[0m                                             \u001b[0mstderr\u001b[0m\u001b[1;33m=\u001b[0m\u001b[0mself\u001b[0m\u001b[1;33m.\u001b[0m\u001b[0mlog_file\u001b[0m\u001b[1;33m,\u001b[0m\u001b[1;33m\u001b[0m\u001b[0m\n\u001b[1;32m---> 76\u001b[1;33m                                             stdin=PIPE)\n\u001b[0m\u001b[0;32m     77\u001b[0m         \u001b[1;32mexcept\u001b[0m \u001b[0mTypeError\u001b[0m\u001b[1;33m:\u001b[0m\u001b[1;33m\u001b[0m\u001b[0m\n",
      "\u001b[1;32m~\\Anaconda3\\lib\\subprocess.py\u001b[0m in \u001b[0;36m__init__\u001b[1;34m(self, args, bufsize, executable, stdin, stdout, stderr, preexec_fn, close_fds, shell, cwd, env, universal_newlines, startupinfo, creationflags, restore_signals, start_new_session, pass_fds, encoding, errors)\u001b[0m\n\u001b[0;32m    708\u001b[0m                                 \u001b[0merrread\u001b[0m\u001b[1;33m,\u001b[0m \u001b[0merrwrite\u001b[0m\u001b[1;33m,\u001b[0m\u001b[1;33m\u001b[0m\u001b[0m\n\u001b[1;32m--> 709\u001b[1;33m                                 restore_signals, start_new_session)\n\u001b[0m\u001b[0;32m    710\u001b[0m         \u001b[1;32mexcept\u001b[0m\u001b[1;33m:\u001b[0m\u001b[1;33m\u001b[0m\u001b[0m\n",
      "\u001b[1;32m~\\Anaconda3\\lib\\subprocess.py\u001b[0m in \u001b[0;36m_execute_child\u001b[1;34m(self, args, executable, preexec_fn, close_fds, pass_fds, cwd, env, startupinfo, creationflags, shell, p2cread, p2cwrite, c2pread, c2pwrite, errread, errwrite, unused_restore_signals, unused_start_new_session)\u001b[0m\n\u001b[0;32m    996\u001b[0m                                          \u001b[0mos\u001b[0m\u001b[1;33m.\u001b[0m\u001b[0mfspath\u001b[0m\u001b[1;33m(\u001b[0m\u001b[0mcwd\u001b[0m\u001b[1;33m)\u001b[0m \u001b[1;32mif\u001b[0m \u001b[0mcwd\u001b[0m \u001b[1;32mis\u001b[0m \u001b[1;32mnot\u001b[0m \u001b[1;32mNone\u001b[0m \u001b[1;32melse\u001b[0m \u001b[1;32mNone\u001b[0m\u001b[1;33m,\u001b[0m\u001b[1;33m\u001b[0m\u001b[0m\n\u001b[1;32m--> 997\u001b[1;33m                                          startupinfo)\n\u001b[0m\u001b[0;32m    998\u001b[0m             \u001b[1;32mfinally\u001b[0m\u001b[1;33m:\u001b[0m\u001b[1;33m\u001b[0m\u001b[0m\n",
      "\u001b[1;31mFileNotFoundError\u001b[0m: [WinError 2] 지정된 파일을 찾을 수 없습니다",
      "\nDuring handling of the above exception, another exception occurred:\n",
      "\u001b[1;31mWebDriverException\u001b[0m                        Traceback (most recent call last)",
      "\u001b[1;32m<ipython-input-2-7e453f5c690f>\u001b[0m in \u001b[0;36m<module>\u001b[1;34m()\u001b[0m\n\u001b[0;32m      1\u001b[0m \u001b[1;31m# 1. 드라이버 경로 지정\u001b[0m\u001b[1;33m\u001b[0m\u001b[1;33m\u001b[0m\u001b[0m\n\u001b[0;32m      2\u001b[0m \u001b[1;32mfrom\u001b[0m \u001b[0mselenium\u001b[0m\u001b[1;33m.\u001b[0m\u001b[0mwebdriver\u001b[0m \u001b[1;32mimport\u001b[0m \u001b[0mChrome\u001b[0m\u001b[1;33m\u001b[0m\u001b[0m\n\u001b[1;32m----> 3\u001b[1;33m \u001b[0mdiverr\u001b[0m\u001b[1;33m=\u001b[0m\u001b[0mChrome\u001b[0m\u001b[1;33m(\u001b[0m\u001b[1;33m)\u001b[0m\u001b[1;33m\u001b[0m\u001b[0m\n\u001b[0m\u001b[0;32m      4\u001b[0m \u001b[1;31m#드라이버 경로 저장시에는\u001b[0m\u001b[1;33m\u001b[0m\u001b[1;33m\u001b[0m\u001b[0m\n\u001b[0;32m      5\u001b[0m \u001b[1;31m#path = 'c:/Users\\lady1\\Desktop\\install_file\\chromedriver.exe' ## 크롬드라이브가 설치된 경로 지정\u001b[0m\u001b[1;33m\u001b[0m\u001b[1;33m\u001b[0m\u001b[0m\n",
      "\u001b[1;32m~\\Anaconda3\\lib\\site-packages\\selenium\\webdriver\\chrome\\webdriver.py\u001b[0m in \u001b[0;36m__init__\u001b[1;34m(self, executable_path, port, options, service_args, desired_capabilities, service_log_path, chrome_options, keep_alive)\u001b[0m\n\u001b[0;32m     71\u001b[0m             \u001b[0mservice_args\u001b[0m\u001b[1;33m=\u001b[0m\u001b[0mservice_args\u001b[0m\u001b[1;33m,\u001b[0m\u001b[1;33m\u001b[0m\u001b[0m\n\u001b[0;32m     72\u001b[0m             log_path=service_log_path)\n\u001b[1;32m---> 73\u001b[1;33m         \u001b[0mself\u001b[0m\u001b[1;33m.\u001b[0m\u001b[0mservice\u001b[0m\u001b[1;33m.\u001b[0m\u001b[0mstart\u001b[0m\u001b[1;33m(\u001b[0m\u001b[1;33m)\u001b[0m\u001b[1;33m\u001b[0m\u001b[0m\n\u001b[0m\u001b[0;32m     74\u001b[0m \u001b[1;33m\u001b[0m\u001b[0m\n\u001b[0;32m     75\u001b[0m         \u001b[1;32mtry\u001b[0m\u001b[1;33m:\u001b[0m\u001b[1;33m\u001b[0m\u001b[0m\n",
      "\u001b[1;32m~\\Anaconda3\\lib\\site-packages\\selenium\\webdriver\\common\\service.py\u001b[0m in \u001b[0;36mstart\u001b[1;34m(self)\u001b[0m\n\u001b[0;32m     81\u001b[0m                 raise WebDriverException(\n\u001b[0;32m     82\u001b[0m                     \"'%s' executable needs to be in PATH. %s\" % (\n\u001b[1;32m---> 83\u001b[1;33m                         os.path.basename(self.path), self.start_error_message)\n\u001b[0m\u001b[0;32m     84\u001b[0m                 )\n\u001b[0;32m     85\u001b[0m             \u001b[1;32melif\u001b[0m \u001b[0merr\u001b[0m\u001b[1;33m.\u001b[0m\u001b[0merrno\u001b[0m \u001b[1;33m==\u001b[0m \u001b[0merrno\u001b[0m\u001b[1;33m.\u001b[0m\u001b[0mEACCES\u001b[0m\u001b[1;33m:\u001b[0m\u001b[1;33m\u001b[0m\u001b[0m\n",
      "\u001b[1;31mWebDriverException\u001b[0m: Message: 'chromedriver' executable needs to be in PATH. Please see https://sites.google.com/a/chromium.org/chromedriver/home\n"
     ]
    }
   ],
   "source": [
    "# 1. 드라이버 경로 지정\n",
    "from selenium.webdriver import Chrome\n",
    "diverr=Chrome()\n",
    "#드라이버 경로 저장시에는\n",
    "#path = 'c:/Users\\lady1\\Desktop\\install_file\\chromedriver.exe' ## 크롬드라이브가 설치된 경로 지정\n",
    "#driver = webdriver.Chrome(path)"
   ]
  },
  {
   "cell_type": "code",
   "execution_count": 32,
   "metadata": {},
   "outputs": [],
   "source": [
    "# 2. 브라우저 실행\n",
    "driver.get('https://naver.com')\n",
    "delay = 3\n",
    "driver.implicitly_wait(delay)"
   ]
  },
  {
   "cell_type": "code",
   "execution_count": 33,
   "metadata": {},
   "outputs": [],
   "source": [
    "# 3. Element 찾고 Module 실행\n",
    "# 네이버 메일 들어가서 광고인 메일을 확인해보자 \n",
    "\n",
    "your_id = \"****\"\n",
    "password = \"******\"\n"
   ]
  },
  {
   "cell_type": "code",
   "execution_count": 13,
   "metadata": {},
   "outputs": [],
   "source": [
    "\n",
    "element_login = driver.find_element_by_class_name('lg_local_btn') # 로그인 창 클릭 \n",
    "element_login.click()\n",
    "\n",
    "element_id = driver.find_element_by_id(\"id\") # id 텍스트 입력 상자\n",
    "element_id.clear() # 해당 부분을 지워둬라 \n",
    "\n",
    "element_pw = driver.find_element_by_id(\"pw\") # 비밀번호 텍스트 입력 상자\n",
    "element_pw.clear() # 해당 부분을 지워둬라 \n",
    "\n",
    "element_et = driver.find_element_by_class_name('btn_global')\n",
    "\n",
    "element_id.send_keys(your_id) # 아이디 입력\n",
    "element_pw.send_keys(password) # 비밀번호 입력\n",
    "\n"
   ]
  },
  {
   "cell_type": "code",
   "execution_count": 14,
   "metadata": {},
   "outputs": [],
   "source": [
    "element_et.submit() # 로그인 버튼 클릭\n",
    "#######현재 이 부분이 정책변경으로 자동로그인이 되지 않습니다\n",
    "#밑의 코드를 실행할려면 수동 로그인이 필요합니다..\n",
    "\n",
    "###크롤링의 현실: 웹페이지가 계속 변하기 때문에 코드도 계속 업데이트해줘야한다(..)"
   ]
  },
  {
   "cell_type": "code",
   "execution_count": 15,
   "metadata": {},
   "outputs": [
    {
     "data": {
      "text/plain": [
       "'(광고) 아이리버 전동칫솔 61%할인 4만원대 초특가! / 스팀청소기 76%할인 4만원대 + 무료배송! / 고쿠요&킹짐 신학기파일 ~30%할인'"
      ]
     },
     "execution_count": 15,
     "metadata": {},
     "output_type": "execute_result"
    }
   ],
   "source": [
    "\n",
    "driver.find_element_by_class_name('an_icon').click() # 메일 페이지 열기\n",
    "titles = driver.find_elements_by_class_name('mail_title')\n",
    "\n",
    "a = driver.find_elements_by_partial_link_text(\"광고\") # \"광고\"라는 글자가 들어간 메일을 모두 찾아라 \n",
    "a[1].text # 2번째 광고 보여줘 "
   ]
  },
  {
   "cell_type": "markdown",
   "metadata": {},
   "source": [
    "#### 5-2. Selenium + BeautifulSoup -> 네이버 스펙업 카페 접속 후 텍스트 크롤링\n",
    "- 네이버 카페 게시판은 iframe으로 운영되는데, 이 iframe 때문에 주소창에는 아무런 변화가 없다.\n",
    "- iframe은 생각보다 많은 웹페이지에서 적용된다. (유투브, 네이버, 구글 ...)\n",
    "- 크롬 개발자 도구를 활용해 게시판을 보면 a href 속성에서 실제 주소를 확인할 수 있다.\n",
    "\n",
    "<네이버 카페의 태그는 다음과 같다>\n",
    "- search.clubid : 카페 별 아이디\n",
    "- search.menuid : 게시판 별 아이디\n",
    "- search.page : 게시판 페이지 번호"
   ]
  },
  {
   "cell_type": "code",
   "execution_count": 53,
   "metadata": {
    "collapsed": true,
    "scrolled": true
   },
   "outputs": [],
   "source": [
    "####### Selenium\n",
    "\n",
    "# 1. 드라이버 경로 지정\n",
    "path = 'c:/Users\\lady1\\Desktop\\install_file\\chromedriver.exe' ## 크롬드라이브가 설치된 경로 지정\n",
    "driver = webdriver.Chrome(path)\n",
    "driver.get('https://naver.com')\n",
    "\n",
    "# 먼저 로그인\n",
    "your_id = \"********\"\n",
    "password = \"********\"\n",
    "\n",
    "element_login = driver.find_element_by_class_name('lg_local_btn') # 로그인 창 클릭 \n",
    "element_login.click()\n",
    "\n",
    "element_id = driver.find_element_by_id(\"id\") # id 텍스트 입력 상자\n",
    "element_id.clear() # 해당 부분을 지워둬라 \n",
    "\n",
    "element_pw = driver.find_element_by_id(\"pw\") # 비밀번호 텍스트 입력 상자\n",
    "element_pw.clear() # 해당 부분을 지워둬라 \n",
    "\n",
    "element_et = driver.find_element_by_class_name('btn_global')\n",
    "\n",
    "element_id.send_keys(your_id) # 아이디 입력\n",
    "element_pw.send_keys(password) # 비밀번호 입력\n",
    "\n",
    "element_et.submit() # 로그인 버튼 클릭\n"
   ]
  },
  {
   "cell_type": "code",
   "execution_count": 46,
   "metadata": {},
   "outputs": [
    {
     "name": "stderr",
     "output_type": "stream",
     "text": [
      "C:\\Users\\User\\Anaconda3\\lib\\site-packages\\ipykernel_launcher.py:6: DeprecationWarning: use driver.switch_to.frame instead\n",
      "  \n"
     ]
    }
   ],
   "source": [
    "# 2. 브라우저 실행\n",
    "specup_url = 'https://cafe.naver.com/specup/ArticleList.nhn?search.clubid=15754634' # 스펙업 카페의 아이디는 15754634\n",
    "driver.get(specup_url + '&search.menuid=28&search.boardtype=L&search.page=1') # 스펙업│인턴공고 게시판 첫 페이지로 들어감 \n",
    "\n",
    "# 3. iframe으로 프레임 전환\n",
    "driver.switch_to_frame('cafe_main')\n",
    "\n"
   ]
  },
  {
   "cell_type": "code",
   "execution_count": 49,
   "metadata": {},
   "outputs": [
    {
     "data": {
      "text/plain": [
       "[<selenium.webdriver.remote.webelement.WebElement (session=\"24cd29301997ba0babd102bb4fa1178e\", element=\"0.7162487997026785-1\")>,\n",
       " <selenium.webdriver.remote.webelement.WebElement (session=\"24cd29301997ba0babd102bb4fa1178e\", element=\"0.7162487997026785-2\")>,\n",
       " <selenium.webdriver.remote.webelement.WebElement (session=\"24cd29301997ba0babd102bb4fa1178e\", element=\"0.7162487997026785-3\")>,\n",
       " <selenium.webdriver.remote.webelement.WebElement (session=\"24cd29301997ba0babd102bb4fa1178e\", element=\"0.7162487997026785-4\")>,\n",
       " <selenium.webdriver.remote.webelement.WebElement (session=\"24cd29301997ba0babd102bb4fa1178e\", element=\"0.7162487997026785-5\")>,\n",
       " <selenium.webdriver.remote.webelement.WebElement (session=\"24cd29301997ba0babd102bb4fa1178e\", element=\"0.7162487997026785-6\")>,\n",
       " <selenium.webdriver.remote.webelement.WebElement (session=\"24cd29301997ba0babd102bb4fa1178e\", element=\"0.7162487997026785-7\")>,\n",
       " <selenium.webdriver.remote.webelement.WebElement (session=\"24cd29301997ba0babd102bb4fa1178e\", element=\"0.7162487997026785-8\")>,\n",
       " <selenium.webdriver.remote.webelement.WebElement (session=\"24cd29301997ba0babd102bb4fa1178e\", element=\"0.7162487997026785-9\")>,\n",
       " <selenium.webdriver.remote.webelement.WebElement (session=\"24cd29301997ba0babd102bb4fa1178e\", element=\"0.7162487997026785-10\")>,\n",
       " <selenium.webdriver.remote.webelement.WebElement (session=\"24cd29301997ba0babd102bb4fa1178e\", element=\"0.7162487997026785-11\")>,\n",
       " <selenium.webdriver.remote.webelement.WebElement (session=\"24cd29301997ba0babd102bb4fa1178e\", element=\"0.7162487997026785-12\")>,\n",
       " <selenium.webdriver.remote.webelement.WebElement (session=\"24cd29301997ba0babd102bb4fa1178e\", element=\"0.7162487997026785-13\")>,\n",
       " <selenium.webdriver.remote.webelement.WebElement (session=\"24cd29301997ba0babd102bb4fa1178e\", element=\"0.7162487997026785-14\")>,\n",
       " <selenium.webdriver.remote.webelement.WebElement (session=\"24cd29301997ba0babd102bb4fa1178e\", element=\"0.7162487997026785-15\")>,\n",
       " <selenium.webdriver.remote.webelement.WebElement (session=\"24cd29301997ba0babd102bb4fa1178e\", element=\"0.7162487997026785-16\")>,\n",
       " <selenium.webdriver.remote.webelement.WebElement (session=\"24cd29301997ba0babd102bb4fa1178e\", element=\"0.7162487997026785-17\")>,\n",
       " <selenium.webdriver.remote.webelement.WebElement (session=\"24cd29301997ba0babd102bb4fa1178e\", element=\"0.7162487997026785-18\")>,\n",
       " <selenium.webdriver.remote.webelement.WebElement (session=\"24cd29301997ba0babd102bb4fa1178e\", element=\"0.7162487997026785-19\")>,\n",
       " <selenium.webdriver.remote.webelement.WebElement (session=\"24cd29301997ba0babd102bb4fa1178e\", element=\"0.7162487997026785-20\")>,\n",
       " <selenium.webdriver.remote.webelement.WebElement (session=\"24cd29301997ba0babd102bb4fa1178e\", element=\"0.7162487997026785-21\")>,\n",
       " <selenium.webdriver.remote.webelement.WebElement (session=\"24cd29301997ba0babd102bb4fa1178e\", element=\"0.7162487997026785-22\")>,\n",
       " <selenium.webdriver.remote.webelement.WebElement (session=\"24cd29301997ba0babd102bb4fa1178e\", element=\"0.7162487997026785-23\")>,\n",
       " <selenium.webdriver.remote.webelement.WebElement (session=\"24cd29301997ba0babd102bb4fa1178e\", element=\"0.7162487997026785-24\")>,\n",
       " <selenium.webdriver.remote.webelement.WebElement (session=\"24cd29301997ba0babd102bb4fa1178e\", element=\"0.7162487997026785-25\")>,\n",
       " <selenium.webdriver.remote.webelement.WebElement (session=\"24cd29301997ba0babd102bb4fa1178e\", element=\"0.7162487997026785-26\")>,\n",
       " <selenium.webdriver.remote.webelement.WebElement (session=\"24cd29301997ba0babd102bb4fa1178e\", element=\"0.7162487997026785-27\")>,\n",
       " <selenium.webdriver.remote.webelement.WebElement (session=\"24cd29301997ba0babd102bb4fa1178e\", element=\"0.7162487997026785-28\")>,\n",
       " <selenium.webdriver.remote.webelement.WebElement (session=\"24cd29301997ba0babd102bb4fa1178e\", element=\"0.7162487997026785-29\")>,\n",
       " <selenium.webdriver.remote.webelement.WebElement (session=\"24cd29301997ba0babd102bb4fa1178e\", element=\"0.7162487997026785-30\")>,\n",
       " <selenium.webdriver.remote.webelement.WebElement (session=\"24cd29301997ba0babd102bb4fa1178e\", element=\"0.7162487997026785-31\")>,\n",
       " <selenium.webdriver.remote.webelement.WebElement (session=\"24cd29301997ba0babd102bb4fa1178e\", element=\"0.7162487997026785-32\")>,\n",
       " <selenium.webdriver.remote.webelement.WebElement (session=\"24cd29301997ba0babd102bb4fa1178e\", element=\"0.7162487997026785-33\")>,\n",
       " <selenium.webdriver.remote.webelement.WebElement (session=\"24cd29301997ba0babd102bb4fa1178e\", element=\"0.7162487997026785-34\")>,\n",
       " <selenium.webdriver.remote.webelement.WebElement (session=\"24cd29301997ba0babd102bb4fa1178e\", element=\"0.7162487997026785-35\")>,\n",
       " <selenium.webdriver.remote.webelement.WebElement (session=\"24cd29301997ba0babd102bb4fa1178e\", element=\"0.7162487997026785-36\")>,\n",
       " <selenium.webdriver.remote.webelement.WebElement (session=\"24cd29301997ba0babd102bb4fa1178e\", element=\"0.7162487997026785-37\")>,\n",
       " <selenium.webdriver.remote.webelement.WebElement (session=\"24cd29301997ba0babd102bb4fa1178e\", element=\"0.7162487997026785-38\")>,\n",
       " <selenium.webdriver.remote.webelement.WebElement (session=\"24cd29301997ba0babd102bb4fa1178e\", element=\"0.7162487997026785-39\")>,\n",
       " <selenium.webdriver.remote.webelement.WebElement (session=\"24cd29301997ba0babd102bb4fa1178e\", element=\"0.7162487997026785-40\")>,\n",
       " <selenium.webdriver.remote.webelement.WebElement (session=\"24cd29301997ba0babd102bb4fa1178e\", element=\"0.7162487997026785-41\")>,\n",
       " <selenium.webdriver.remote.webelement.WebElement (session=\"24cd29301997ba0babd102bb4fa1178e\", element=\"0.7162487997026785-42\")>,\n",
       " <selenium.webdriver.remote.webelement.WebElement (session=\"24cd29301997ba0babd102bb4fa1178e\", element=\"0.7162487997026785-43\")>,\n",
       " <selenium.webdriver.remote.webelement.WebElement (session=\"24cd29301997ba0babd102bb4fa1178e\", element=\"0.7162487997026785-44\")>,\n",
       " <selenium.webdriver.remote.webelement.WebElement (session=\"24cd29301997ba0babd102bb4fa1178e\", element=\"0.7162487997026785-45\")>,\n",
       " <selenium.webdriver.remote.webelement.WebElement (session=\"24cd29301997ba0babd102bb4fa1178e\", element=\"0.7162487997026785-46\")>,\n",
       " <selenium.webdriver.remote.webelement.WebElement (session=\"24cd29301997ba0babd102bb4fa1178e\", element=\"0.7162487997026785-47\")>,\n",
       " <selenium.webdriver.remote.webelement.WebElement (session=\"24cd29301997ba0babd102bb4fa1178e\", element=\"0.7162487997026785-48\")>,\n",
       " <selenium.webdriver.remote.webelement.WebElement (session=\"24cd29301997ba0babd102bb4fa1178e\", element=\"0.7162487997026785-49\")>,\n",
       " <selenium.webdriver.remote.webelement.WebElement (session=\"24cd29301997ba0babd102bb4fa1178e\", element=\"0.7162487997026785-50\")>,\n",
       " <selenium.webdriver.remote.webelement.WebElement (session=\"24cd29301997ba0babd102bb4fa1178e\", element=\"0.7162487997026785-51\")>,\n",
       " <selenium.webdriver.remote.webelement.WebElement (session=\"24cd29301997ba0babd102bb4fa1178e\", element=\"0.7162487997026785-52\")>,\n",
       " <selenium.webdriver.remote.webelement.WebElement (session=\"24cd29301997ba0babd102bb4fa1178e\", element=\"0.7162487997026785-53\")>,\n",
       " <selenium.webdriver.remote.webelement.WebElement (session=\"24cd29301997ba0babd102bb4fa1178e\", element=\"0.7162487997026785-54\")>,\n",
       " <selenium.webdriver.remote.webelement.WebElement (session=\"24cd29301997ba0babd102bb4fa1178e\", element=\"0.7162487997026785-55\")>,\n",
       " <selenium.webdriver.remote.webelement.WebElement (session=\"24cd29301997ba0babd102bb4fa1178e\", element=\"0.7162487997026785-56\")>,\n",
       " <selenium.webdriver.remote.webelement.WebElement (session=\"24cd29301997ba0babd102bb4fa1178e\", element=\"0.7162487997026785-57\")>,\n",
       " <selenium.webdriver.remote.webelement.WebElement (session=\"24cd29301997ba0babd102bb4fa1178e\", element=\"0.7162487997026785-58\")>,\n",
       " <selenium.webdriver.remote.webelement.WebElement (session=\"24cd29301997ba0babd102bb4fa1178e\", element=\"0.7162487997026785-59\")>,\n",
       " <selenium.webdriver.remote.webelement.WebElement (session=\"24cd29301997ba0babd102bb4fa1178e\", element=\"0.7162487997026785-60\")>]"
      ]
     },
     "execution_count": 49,
     "metadata": {},
     "output_type": "execute_result"
    }
   ],
   "source": [
    "# 4. href 속성을 찾아 url을 리스트로 저장한다.\n",
    "article_list = driver.find_elements_by_css_selector('a.article') # span tag의 class인 aaa 내부태그 a의 class m-tcol-c 선택!\n",
    "article_urls = [i.get_attribute('href') for i in article_list] # href 속성 선택 \n",
    "\n",
    "article_list"
   ]
  },
  {
   "cell_type": "code",
   "execution_count": 50,
   "metadata": {},
   "outputs": [
    {
     "name": "stderr",
     "output_type": "stream",
     "text": [
      "C:\\Users\\User\\Anaconda3\\lib\\site-packages\\ipykernel_launcher.py:7: DeprecationWarning: use driver.switch_to.frame instead\n",
      "  import sys\n"
     ]
    },
    {
     "ename": "KeyboardInterrupt",
     "evalue": "",
     "output_type": "error",
     "traceback": [
      "\u001b[1;31m---------------------------------------------------------------------------\u001b[0m",
      "\u001b[1;31mKeyboardInterrupt\u001b[0m                         Traceback (most recent call last)",
      "\u001b[1;32m<ipython-input-50-9c65735aafef>\u001b[0m in \u001b[0;36m<module>\u001b[1;34m()\u001b[0m\n\u001b[0;32m     14\u001b[0m \u001b[1;33m\u001b[0m\u001b[0m\n\u001b[0;32m     15\u001b[0m     \u001b[0mres_list\u001b[0m\u001b[1;33m.\u001b[0m\u001b[0mappend\u001b[0m\u001b[1;33m(\u001b[0m\u001b[1;33m{\u001b[0m\u001b[1;34m'내용'\u001b[0m \u001b[1;33m:\u001b[0m \u001b[0mcontent\u001b[0m\u001b[1;33m,\u001b[0m \u001b[1;34m'제목'\u001b[0m \u001b[1;33m:\u001b[0m \u001b[0mtitle\u001b[0m\u001b[1;33m}\u001b[0m\u001b[1;33m)\u001b[0m \u001b[1;31m# dictionary 형태로 만들어 결과 list에 저장\u001b[0m\u001b[1;33m\u001b[0m\u001b[0m\n\u001b[1;32m---> 16\u001b[1;33m     \u001b[0msleep\u001b[0m\u001b[1;33m(\u001b[0m\u001b[1;36m2\u001b[0m\u001b[1;33m)\u001b[0m \u001b[1;31m# 재워주기\u001b[0m\u001b[1;33m\u001b[0m\u001b[0m\n\u001b[0m",
      "\u001b[1;31mKeyboardInterrupt\u001b[0m: "
     ]
    }
   ],
   "source": [
    "####### BeautifulSoup \n",
    "from time import sleep\n",
    "import pandas as pd\n",
    "res_list = []\n",
    "for article in article_urls:\n",
    "    driver.get(article)\n",
    "    driver.switch_to_frame('cafe_main') # article도 switch_to_frame\n",
    "    \n",
    "    soup = BeautifulSoup(driver.page_source, 'html.parser')\n",
    "    title = soup.select('div.tit-box span.b')[0].get_text() # 게시글에서 제목 추출\n",
    "    \n",
    "    content_tags = soup.select('#tbody')[0].select('p') # 내용을 하나의 텍스트로 만든다. (띄어쓰기 단위)\n",
    "    content = ' '.join([ tags.get_text() for tags in content_tags ]) # 전체 내용에서 tags의 글자만 반환한 것을 띄어쓰기 단위로 합쳐서(join) content에 넣는다.\n",
    "    \n",
    "    res_list.append({'내용' : content, '제목' : title}) # dictionary 형태로 만들어 결과 list에 저장\n",
    "    sleep(2) # 재워주기  ###시간이너무 오래 걸리면 인터넷 속도에 맞춰서 조절해주면 됩니다\n",
    "\n"
   ]
  },
  {
   "cell_type": "code",
   "execution_count": 51,
   "metadata": {},
   "outputs": [
    {
     "data": {
      "text/html": [
       "<div>\n",
       "<style scoped>\n",
       "    .dataframe tbody tr th:only-of-type {\n",
       "        vertical-align: middle;\n",
       "    }\n",
       "\n",
       "    .dataframe tbody tr th {\n",
       "        vertical-align: top;\n",
       "    }\n",
       "\n",
       "    .dataframe thead th {\n",
       "        text-align: right;\n",
       "    }\n",
       "</style>\n",
       "<table border=\"1\" class=\"dataframe\">\n",
       "  <thead>\n",
       "    <tr style=\"text-align: right;\">\n",
       "      <th></th>\n",
       "      <th>내용</th>\n",
       "      <th>제목</th>\n",
       "    </tr>\n",
       "  </thead>\n",
       "  <tbody>\n",
       "    <tr>\n",
       "      <th>0</th>\n",
       "      <td></td>\n",
       "      <td>대학&amp;취업정보 제일 먼저 받기 ☞ 스펙업 카카오톡 오픈채팅방 바로 입장</td>\n",
       "    </tr>\n",
       "    <tr>\n",
       "      <th>1</th>\n",
       "      <td></td>\n",
       "      <td>★2월 5주★ 스펙업 회원들이 많이 본 인기 회원글 BEST 10</td>\n",
       "    </tr>\n",
       "    <tr>\n",
       "      <th>2</th>\n",
       "      <td>★홈페이지 바로가기★</td>\n",
       "      <td>*전액무료* 주얼리 글로벌 온라인 셀러!! 패션주얼리 취·창업 아카데미</td>\n",
       "    </tr>\n",
       "    <tr>\n",
       "      <th>3</th>\n",
       "      <td>해외취업, 외국계 기업, 다국적 회사 등 영문 이력서, 영어 인터뷰의 필요성을 느끼...</td>\n",
       "      <td>*국비지원* (해외취업, 외국계 기업) 영문 이력서, 영어 인터뷰 노하우 특강 진행!</td>\n",
       "    </tr>\n",
       "    <tr>\n",
       "      <th>4</th>\n",
       "      <td></td>\n",
       "      <td>[3월 1주/채용] 대기업·공기업·중견중소 채용리스트</td>\n",
       "    </tr>\n",
       "    <tr>\n",
       "      <th>5</th>\n",
       "      <td></td>\n",
       "      <td>[3월 1주/동아리] 스펙업 동아리 리스트</td>\n",
       "    </tr>\n",
       "  </tbody>\n",
       "</table>\n",
       "</div>"
      ],
      "text/plain": [
       "                                                  내용  \\\n",
       "0                                                      \n",
       "1                                                      \n",
       "2                                 ★홈페이지 바로가기★          \n",
       "3  해외취업, 외국계 기업, 다국적 회사 등 영문 이력서, 영어 인터뷰의 필요성을 느끼...   \n",
       "4                                                      \n",
       "5                                                      \n",
       "\n",
       "                                                제목  \n",
       "0          대학&취업정보 제일 먼저 받기 ☞ 스펙업 카카오톡 오픈채팅방 바로 입장  \n",
       "1             ★2월 5주★ 스펙업 회원들이 많이 본 인기 회원글 BEST 10  \n",
       "2          *전액무료* 주얼리 글로벌 온라인 셀러!! 패션주얼리 취·창업 아카데미  \n",
       "3  *국비지원* (해외취업, 외국계 기업) 영문 이력서, 영어 인터뷰 노하우 특강 진행!  \n",
       "4                    [3월 1주/채용] 대기업·공기업·중견중소 채용리스트  \n",
       "5                          [3월 1주/동아리] 스펙업 동아리 리스트  "
      ]
     },
     "execution_count": 51,
     "metadata": {},
     "output_type": "execute_result"
    }
   ],
   "source": [
    "# 5. 결과 데이터프레임화\n",
    "cafe_df = pd.DataFrame(res_list)\n",
    "\n",
    "cafe_df"
   ]
  },
  {
   "cell_type": "code",
   "execution_count": 52,
   "metadata": {},
   "outputs": [],
   "source": [
    "# 6. csv파일로 저장 \n",
    "cafe_df.to_csv('specup_crawling.csv', index=False)"
   ]
  },
  {
   "cell_type": "markdown",
   "metadata": {},
   "source": [
    "#### 5-3. Selenium + BeautifulSoup -> 이미지 크롤러 만들기\n",
    "- 본인만의 크롤러를 만들어보자!"
   ]
  },
  {
   "cell_type": "code",
   "execution_count": 53,
   "metadata": {
    "scrolled": true
   },
   "outputs": [],
   "source": [
    "import urllib.request\n",
    "import time \n",
    "\n",
    "# 1. 드라이버 경로 지정\n",
    "#path = 'c:/Users\\lady1\\Desktop\\install_file\\chromedriver.exe' ## 크롬드라이브가 설치된 경로 지정\n",
    "#driver = webdriver.Chrome(path)\n",
    "# 2. 브라우저 실행\n",
    "driver.get(\"https://google.co.kr\")\n",
    "# 3. Element 찾고 Module 실행\n",
    "search = driver.find_element_by_name('q')\n",
    "search.send_keys(\"고양이\") # 검색창에 입력\n",
    "search.submit()\n"
   ]
  },
  {
   "cell_type": "code",
   "execution_count": 54,
   "metadata": {},
   "outputs": [],
   "source": [
    "\n",
    "image_btn=driver.find_elements_by_class_name('q')\n",
    "image_btn[0].click() # 이미지 페이지로 이동\n",
    "\n"
   ]
  },
  {
   "cell_type": "code",
   "execution_count": 55,
   "metadata": {},
   "outputs": [],
   "source": [
    "k = 0\n",
    "numb_pagedown = 2\n",
    "elm = driver.find_element_by_tag_name('html')\n",
    "for i in range(numb_pagedown):\n",
    "    images = driver.find_elements_by_class_name('rg_ic') # 이미지에 해당하는 class \n",
    "    for image in images:\n",
    "        try:\n",
    "            source = image.get_attribute('src')\n",
    "            urllib.request.urlretrieve(source, \"shot\" + str(k) + '.png')\n",
    "        except:\n",
    "            None\n",
    "        k = k + 1\n",
    "    elm.send_keys(Keys.END)\n",
    "    time.sleep(0.5) "
   ]
  },
  {
   "cell_type": "code",
   "execution_count": 56,
   "metadata": {
    "scrolled": true
   },
   "outputs": [
    {
     "name": "stdout",
     "output_type": "stream",
     "text": [
      "---------[ 1번 째 이미지 ]---------\n"
     ]
    },
    {
     "ename": "FileNotFoundError",
     "evalue": "[Errno 2] No such file or directory: './img/rimg1tvx75.jpg'",
     "output_type": "error",
     "traceback": [
      "\u001b[1;31m---------------------------------------------------------------------------\u001b[0m",
      "\u001b[1;31mFileNotFoundError\u001b[0m                         Traceback (most recent call last)",
      "\u001b[1;32m<ipython-input-56-208274837225>\u001b[0m in \u001b[0;36m<module>\u001b[1;34m()\u001b[0m\n\u001b[0;32m     30\u001b[0m         \u001b[0mprint\u001b[0m\u001b[1;33m(\u001b[0m\u001b[1;34m\"크롤링 종료\"\u001b[0m\u001b[1;33m)\u001b[0m\u001b[1;33m\u001b[0m\u001b[0m\n\u001b[0;32m     31\u001b[0m \u001b[1;33m\u001b[0m\u001b[0m\n\u001b[1;32m---> 32\u001b[1;33m \u001b[0mget_image\u001b[0m\u001b[1;33m(\u001b[0m\u001b[1;36m1\u001b[0m\u001b[1;33m)\u001b[0m\u001b[1;33m\u001b[0m\u001b[0m\n\u001b[0m",
      "\u001b[1;32m<ipython-input-56-208274837225>\u001b[0m in \u001b[0;36mget_image\u001b[1;34m(max_count)\u001b[0m\n\u001b[0;32m     20\u001b[0m         \u001b[0mimg_name\u001b[0m \u001b[1;33m=\u001b[0m \u001b[0mimg_src\u001b[0m\u001b[1;33m.\u001b[0m\u001b[0mreplace\u001b[0m\u001b[1;33m(\u001b[0m\u001b[1;34m\"/\"\u001b[0m\u001b[1;33m,\u001b[0m \u001b[1;34m\"\"\u001b[0m\u001b[1;33m)\u001b[0m \u001b[1;31m# 이미지 src에서 / 없애기\u001b[0m\u001b[1;33m\u001b[0m\u001b[0m\n\u001b[0;32m     21\u001b[0m \u001b[1;33m\u001b[0m\u001b[0m\n\u001b[1;32m---> 22\u001b[1;33m         \u001b[0murllib\u001b[0m\u001b[1;33m.\u001b[0m\u001b[0mrequest\u001b[0m\u001b[1;33m.\u001b[0m\u001b[0murlretrieve\u001b[0m\u001b[1;33m(\u001b[0m\u001b[0mimg_url\u001b[0m\u001b[1;33m,\u001b[0m \u001b[1;34m\"./img/\"\u001b[0m \u001b[1;33m+\u001b[0m \u001b[0mimg_name\u001b[0m\u001b[1;33m)\u001b[0m\u001b[1;33m\u001b[0m\u001b[0m\n\u001b[0m\u001b[0;32m     23\u001b[0m \u001b[1;33m\u001b[0m\u001b[0m\n\u001b[0;32m     24\u001b[0m         \u001b[0mprint\u001b[0m\u001b[1;33m(\u001b[0m\u001b[1;34m\"이미지 src:\"\u001b[0m\u001b[1;33m,\u001b[0m \u001b[0mimg_src\u001b[0m\u001b[1;33m)\u001b[0m\u001b[1;33m\u001b[0m\u001b[0m\n",
      "\u001b[1;32m~\\Anaconda3\\lib\\urllib\\request.py\u001b[0m in \u001b[0;36murlretrieve\u001b[1;34m(url, filename, reporthook, data)\u001b[0m\n\u001b[0;32m    256\u001b[0m         \u001b[1;31m# Handle temporary file setup.\u001b[0m\u001b[1;33m\u001b[0m\u001b[1;33m\u001b[0m\u001b[0m\n\u001b[0;32m    257\u001b[0m         \u001b[1;32mif\u001b[0m \u001b[0mfilename\u001b[0m\u001b[1;33m:\u001b[0m\u001b[1;33m\u001b[0m\u001b[0m\n\u001b[1;32m--> 258\u001b[1;33m             \u001b[0mtfp\u001b[0m \u001b[1;33m=\u001b[0m \u001b[0mopen\u001b[0m\u001b[1;33m(\u001b[0m\u001b[0mfilename\u001b[0m\u001b[1;33m,\u001b[0m \u001b[1;34m'wb'\u001b[0m\u001b[1;33m)\u001b[0m\u001b[1;33m\u001b[0m\u001b[0m\n\u001b[0m\u001b[0;32m    259\u001b[0m         \u001b[1;32melse\u001b[0m\u001b[1;33m:\u001b[0m\u001b[1;33m\u001b[0m\u001b[0m\n\u001b[0;32m    260\u001b[0m             \u001b[0mtfp\u001b[0m \u001b[1;33m=\u001b[0m \u001b[0mtempfile\u001b[0m\u001b[1;33m.\u001b[0m\u001b[0mNamedTemporaryFile\u001b[0m\u001b[1;33m(\u001b[0m\u001b[0mdelete\u001b[0m\u001b[1;33m=\u001b[0m\u001b[1;32mFalse\u001b[0m\u001b[1;33m)\u001b[0m\u001b[1;33m\u001b[0m\u001b[0m\n",
      "\u001b[1;31mFileNotFoundError\u001b[0m: [Errno 2] No such file or directory: './img/rimg1tvx75.jpg'"
     ]
    }
   ],
   "source": [
    "from bs4 import BeautifulSoup\n",
    "import urllib.request\n",
    "\n",
    "def get_image(max_count = 1):\n",
    "    base_url = \"http://10000img.com/\" # 이미지 src와 조합 할 주소\n",
    "    url = \"http://10000img.com/ran.php\" # 크롤러가 접속할 경로, url 경로로 접속하여 이미지영역을 추출하고 src 속성을 추출하여 base_url와 조합한 후 이미지를 다운\n",
    "\n",
    "    count = 1 # 몇개의 이미지를 다운받았는지 카운트\n",
    "    while count <= max_count:\n",
    "        print(\"---------[ %d번 째 이미지 ]---------\" % count)\n",
    "\n",
    "        html = urllib.request.urlopen(url) # url의 html source를 요청\n",
    "        source = html.read() # url의 html source를 읽어랏\n",
    "\n",
    "        soup = BeautifulSoup(source, \"html.parser\") # 불러온 html source 파서 만들기\n",
    "\n",
    "        img = soup.find(\"img\")  # 이미지 태그\n",
    "        img_src = img.get(\"src\") # 이미지 경로\n",
    "        img_url = base_url + img_src # 다운로드를 위해 base_url과 합침\n",
    "        img_name = img_src.replace(\"/\", \"\") # 이미지 src에서 / 없애기\n",
    "\n",
    "        urllib.request.urlretrieve(img_url, \"./img/\" + img_name)\n",
    "\n",
    "        print(\"이미지 src:\", img_src)\n",
    "        print(\"이미지 url:\", img_url)\n",
    "        print(\"이미지 명:\", img_name)\n",
    "        print(\"\\n\")\n",
    "        count += 1 # 갯수 1 증가\n",
    "    else:\n",
    "        print(\"크롤링 종료\")\n",
    "\n",
    "get_image(1)"
   ]
  },
  {
   "cell_type": "code",
   "execution_count": 60,
   "metadata": {
    "scrolled": true
   },
   "outputs": [
    {
     "name": "stdout",
     "output_type": "stream",
     "text": [
      "검색할 이미지를 입력하세요 : 고양이\n",
      "/textinputassistant/tia.png\n",
      "https://encrypted-tbn0.gstatic.com/images?q=tbn:ANd9GcRqkqYn8-jFFjJepnm62N6Yv4EuwlKj21vaHs-Mub03sEmnx4vPFYoeHxs\n",
      "https://encrypted-tbn0.gstatic.com/images?q=tbn:ANd9GcQgaTuGT8APY8oeDnV7Scax8l3jfjoyMSIrHQ21BBcwb5ktnuILhHTA_3Cb\n",
      "https://encrypted-tbn0.gstatic.com/images?q=tbn:ANd9GcQZKEdYZRULwF7Wc724FFbpQkLKpOiH-fUgHF82dItWrs8hyWP3WLERKdk\n",
      "https://encrypted-tbn0.gstatic.com/images?q=tbn:ANd9GcQClK6Awp6AThCUg-Uo64AfCh56x7WocJsiaPb7yf5ED79hbG95ICd5YtY\n",
      "https://encrypted-tbn0.gstatic.com/images?q=tbn:ANd9GcTytlJoR7IifqiRVm-sI0tjkifgfUE42SpZUDvKULRDmUJt0BE4zCIlDIKi\n",
      "https://encrypted-tbn0.gstatic.com/images?q=tbn:ANd9GcTtOEZHIILjU1OE-fmLrbR3Tm2ufzPTiahBw8IIJeII5PAxhj9mXDqqs7HHyQ\n",
      "https://encrypted-tbn0.gstatic.com/images?q=tbn:ANd9GcTI7s_GpEJe3jMo5IKfIllg6lG02SypFh7ht0PBF4EZjemBEoAQA6_qDX9a\n",
      "https://encrypted-tbn0.gstatic.com/images?q=tbn:ANd9GcRpb8o-cN-C8GOP4owEfBa_OnHMkVa_45qNZCIpuzqeXtp0nMjrroA6KWqK\n",
      "https://encrypted-tbn0.gstatic.com/images?q=tbn:ANd9GcTXlbK6q62LohnGJW2oOUnyPotRPfslGLMzROJrbcfrMS2_nyHcTbqo8WmJ\n",
      "https://encrypted-tbn0.gstatic.com/images?q=tbn:ANd9GcRdrKhEgr4Lc8x6oNiJ7DwkKJbbLqhmo3jX-vaedjGOPWxzYyYjwdXxay4\n",
      "https://encrypted-tbn0.gstatic.com/images?q=tbn:ANd9GcSzn_pXlhK8QufIIaRCfHFDzRdCKSV6rdfY8ex4xlLpkk5Tcey4m02-ezYL\n",
      "https://encrypted-tbn0.gstatic.com/images?q=tbn:ANd9GcQLbdHYuvYAVlkillsPQuYpP_RRZKtvo5mQho9bAkiZenwER0cqm-XVXk8\n",
      "https://encrypted-tbn0.gstatic.com/images?q=tbn:ANd9GcQdLs8QY86xaTXoPxe1raa7BpHJof7ZB3D1xfHQ1weKxkS7sSPz0DNFYVEC\n",
      "https://encrypted-tbn0.gstatic.com/images?q=tbn:ANd9GcQsz-C8lxmUXtaOEcA9iwML_gnNIV-c4n1hSyzyuTGfhtIBPq-E01krdG8\n",
      "https://encrypted-tbn0.gstatic.com/images?q=tbn:ANd9GcSmimtY79ztx_Z1QkaBJdlG1YYn2mRBbOEYMuhasZOI3ab0MysNLqqoIw\n",
      "https://encrypted-tbn0.gstatic.com/images?q=tbn:ANd9GcSyyS1M0JQaK84AKNng8JvF9A9WpVC6TDc11Wwpk0UJIeWFo0c3exaiSHMU\n",
      "https://encrypted-tbn0.gstatic.com/images?q=tbn:ANd9GcTy5OQuNoROfzPdA8tQAGOghKlA56-0KeKmru04cp_WysJALhScA1aWQ15-\n",
      "https://encrypted-tbn0.gstatic.com/images?q=tbn:ANd9GcRxbZSlkTF2ehuRa2xNiruGNx2jRNrVXbviH5DIFUhwnjYVgfPPJOcfB9M2ZA\n",
      "https://encrypted-tbn0.gstatic.com/images?q=tbn:ANd9GcT-dEIcS9VHBUqcMI9cocAL2rhrI0iPKzg8NpvGCh3oyKPwdNZBZ06wUgjn\n",
      "https://encrypted-tbn0.gstatic.com/images?q=tbn:ANd9GcS8GkFcsQqINsXZ9obnm8tTCqzhlkoBhoDBdjNvGlENWPH5AXJc91Ksadz9\n"
     ]
    }
   ],
   "source": [
    "import requests \n",
    "from lxml.html import parse # html과 lxml을 파싱\n",
    "from io import StringIO # 데이터를 메모리상에서 취급하는 라이브러리 \n",
    "import sys # sys: 파이썬 인터프리터가 제공하는 변수들과 함수들을 직접 제어할 수 있게 해주는 모듈, \n",
    "import os # os: 환경 변수나 디렉터리, 파일 등의 OS 자원을 제어할 수 있게 해주는 모듈\n",
    "from PIL import Image # image 크롤링을 위한 라이브러리 \n",
    "\n",
    "# 검색할 이미지의 키워드 입력\n",
    "keyword = input(\"검색할 이미지를 입력하세요 : \")\n",
    "url = 'https://www.google.co.kr/search?q='+keyword+'&source=lnms&tbm=isch&sa=X&ved=0ahUKEwic-taB9IXVAhWDHpQKHXOjC14Q_AUIBigB&biw=1842&bih=990'\n",
    "\n",
    "# html 소스 가져오기\n",
    "text = requests.get(url).text                                  \n",
    "\n",
    "# html 문서로 파싱\n",
    "text_source = StringIO(text)\n",
    "parsed = parse(text_source)\n",
    "\n",
    "# root node \n",
    "doc = parsed.getroot()\n",
    "\n",
    "# img 경로는 img 태그안에 src에 있음\n",
    "imgs = doc.findall('.//img')\n",
    "\n",
    "img_list = []   # 이미지 경로가 담길 list\n",
    "for a in imgs:\n",
    "    img_list.append(a.get('src'))\n",
    "    print(a.get('src'))"
   ]
  },
  {
   "cell_type": "markdown",
   "metadata": {},
   "source": [
    "#### #Multiprocessing으로 지금까지의 크롤링 병렬처리 "
   ]
  },
  {
   "cell_type": "markdown",
   "metadata": {},
   "source": [
    "#### Multiprocessing - (1) Pool  \n",
    "- 다른 프로세스에서 돌아가는 함수는 계속 인자를 분배 받아 진행\n",
    "- Pool 을 통해 데이터를 병렬화 해서 함수의 결과를 훨씬더 빠르게 받을수 있습니다."
   ]
  },
  {
   "cell_type": "code",
   "execution_count": null,
   "metadata": {
    "collapsed": true
   },
   "outputs": [],
   "source": [
    "from multiprocessing import Pool\n",
    "import time\n",
    "import os\n",
    "import math\n",
    "\n",
    "def f(x): # 함수 f()는 인자값을 받으면 어느 process에서 작업을 하는지(os.getpid()) 보여주고 1초간 쉰다.\n",
    "    print(\"값\", x, \"에 대한 작업 Pid = \",os.getpid())\n",
    "    time.sleep(1)\n",
    "    return x*x \n",
    "\n",
    "if __name__ == '__main__':\n",
    "    p = Pool(3) # Pool(3) 이란 먼저 프로세스 3개를 준비한다는 의미\n",
    "    startTime = int(time.time())\n",
    "    print(p.map(f, range(0,10)))  # 여기에 함수 f 와, 인자를 range(0, 10)으로 mapping 시켜 데이터를 분배한다\n",
    "    endTime = int(time.time())\n",
    "    print(\"총 작업 시간\", (endTime - startTime))"
   ]
  },
  {
   "cell_type": "markdown",
   "metadata": {},
   "source": [
    "#### Multiprocessing - (2) Process  \n",
    "- 하나의 프로세스를 하나의 함수에 적당한 인자값을 할당 해주고 더이상 신경 안씀"
   ]
  },
  {
   "cell_type": "code",
   "execution_count": null,
   "metadata": {
    "collapsed": true
   },
   "outputs": [],
   "source": [
    "import os\n",
    "\n",
    "from multiprocessing import Process\n",
    "\n",
    "def doubler(number):\n",
    "    // A doubling function that can be used by a process\n",
    "    \n",
    "    result = number * 2\n",
    "    proc = os.getpid()\n",
    "    print('{0} doubled to {1} by process id: {2}'.format(\n",
    "        number, result, proc))\n",
    "\n",
    "\n",
    "if __name__ == '__main__':\n",
    "    numbers = [5, 10, 15, 20, 25]\n",
    "    procs = []\n",
    "\n",
    "    for index, number in enumerate(numbers):\n",
    "        proc = Process(target=doubler, args=(number,)) # Process() 는 함수(target=) 와 인자(args=(arg1,))를 할당(분양)하며 프로세스 객체를 생성\n",
    "        procs.append(proc)\n",
    "        proc.start()\n",
    "\n",
    "    for proc in procs:\n",
    "        proc.join() # .start() 로 시작을 알리며 .join() 으로 끝날때까지 기다리게 함 "
   ]
  },
  {
   "cell_type": "code",
   "execution_count": null,
   "metadata": {
    "collapsed": true
   },
   "outputs": [],
   "source": [
    "from bs4 import BeautifulSoup\n",
    "import urllib.request\n",
    "import time\n",
    "import os\n",
    "import multiprocessing\n",
    "\n",
    "def get_image(max_count = 1):\n",
    "    base_url = \"http://10000img.com/\" # 이미지 src와 조합 할 주소\n",
    "    url = \"http://10000img.com/ran.php\" # 크롤러가 접속할 경로, url 경로로 접속하여 이미지영역을 추출하고 src 속성을 추출하여 base_url와 조합한 후 이미지를 다운\n",
    "\n",
    "    count = 1 # 몇개의 이미지를 다운받았는지 카운트\n",
    "    while count <= max_count:\n",
    "        print(\"---------[ %d번 째 이미지 ]---------\" % count)\n",
    "\n",
    "        html = urllib.request.urlopen(url) # url의 html source를 요청\n",
    "        source = html.read() # url의 html source를 읽어랏\n",
    "\n",
    "        soup = BeautifulSoup(source, \"html.parser\") # 불러온 html source 파서 만들기\n",
    "\n",
    "        img = soup.find(\"img\")  # 이미지 태그\n",
    "        img_src = img.get(\"src\") # 이미지 경로\n",
    "        img_url = base_url + img_src # 다운로드를 위해 base_url과 합침\n",
    "        img_name = img_src.replace(\"/\", \"\") # 이미지 src에서 / 없애기\n",
    "\n",
    "        urllib.request.urlretrieve(img_url, \"./img/\" + img_name)\n",
    "\n",
    "        print(\"이미지 src:\", img_src)\n",
    "        print(\"이미지 url:\", img_url)\n",
    "        print(\"이미지 명:\", img_name)\n",
    "        print(\"\\n\")\n",
    "        count += 1 # 갯수 1 증가\n",
    "        \n",
    "# 중복 체크\n",
    "def duplicate(img):\n",
    "    return os.path.exists(\"./img/\" + img) # 존재하면 True, 없으면 False\n",
    "\n",
    "# 총 크롤링 갯수를 프로세스에 맞춰 할당량 계산 \n",
    "def get_count(num, p=4):\n",
    "    list = []\n",
    "    allocate = int(num/p) # 프로세스 4개 생성하므로\n",
    "    for n in range(p):\n",
    "        list.append(allocate)\n",
    "    list[p-1] += num%p # 마지막 프로세스는 할당량 분배 후 남는 작업도 포함\n",
    "    print(\"프로세스당 할당량:\", list)\n",
    "    return list\n",
    "\n",
    "if __name__ == \"__main__\":\n",
    "    num = int(input(\"이미지 수: \"))\n",
    "    start = time.time() # 크롤링 시작 시간\n",
    "    process = []\n",
    "    for count in get_count(num, 4):\n",
    "        p = multiprocessing.Process(target=get, args=(count,))\n",
    "        process.append(p)\n",
    "        p.start()\n",
    "\n",
    "    for p in process:\n",
    "        p.join()\n",
    "    print(\"크롤링 종료\")\n",
    "    print(\"크롤링 소요 시간:\", round(time.time() - start, 6)) # 소수점 아래 6자리까지"
   ]
  },
  {
   "cell_type": "code",
   "execution_count": null,
   "metadata": {
    "collapsed": true
   },
   "outputs": [],
   "source": [
    "import requests\n",
    "from bs4 import BeautifulSoup as bs\n",
    "import time\n",
    "from multiprocessing import Pool # Pool import하기\n",
    "\n",
    "def get_links(): # 블로그의 게시글 링크들을 가져옵니다.\n",
    "    req = requests.get('https://beomi.github.io/beomi.github.io_old/')\n",
    "    html = req.text\n",
    "    soup = bs(html, 'html.parser')\n",
    "    my_titles = soup.select(\n",
    "        'h3 > a'\n",
    "        )\n",
    "    data = []\n",
    "\n",
    "    for title in my_titles:\n",
    "        data.append(title.get('href'))\n",
    "    return data\n",
    "\n",
    "def get_content(link):\n",
    "    abs_link = 'https://beomi.github.io'+link\n",
    "    req = requests.get(abs_link)\n",
    "    html = req.text\n",
    "    soup = bs(html, 'html.parser')\n",
    "    # 가져온 데이터로 뭔가 할 수 있겠죠?\n",
    "    # 하지만 일단 여기서는 시간만 확인해봅시다.\n",
    "    print(soup.select('h1')[0].text) # 첫 h1 태그를 봅시다.\n",
    "\n",
    "if __name__=='__main__':\n",
    "    start_time = time.time()\n",
    "    pool = Pool(processes=4) # 4개의 프로세스를 사용합니다.\n",
    "    pool.map(get_content, get_links()) # get_content 함수를 넣어줍시다.\n",
    "    print(\"--- %s seconds ---\" % (time.time() - start_time))"
   ]
  },
  {
   "cell_type": "code",
   "execution_count": null,
   "metadata": {
    "collapsed": true
   },
   "outputs": [],
   "source": []
  }
 ],
 "metadata": {
  "kernelspec": {
   "display_name": "Python 3",
   "language": "python",
   "name": "python3"
  },
  "language_info": {
   "codemirror_mode": {
    "name": "ipython",
    "version": 3
   },
   "file_extension": ".py",
   "mimetype": "text/x-python",
   "name": "python",
   "nbconvert_exporter": "python",
   "pygments_lexer": "ipython3",
   "version": "3.6.5"
  }
 },
 "nbformat": 4,
 "nbformat_minor": 2
}
