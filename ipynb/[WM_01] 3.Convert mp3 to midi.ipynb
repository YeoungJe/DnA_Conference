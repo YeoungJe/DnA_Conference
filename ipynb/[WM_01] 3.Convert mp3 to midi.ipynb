{
 "cells": [
  {
   "cell_type": "markdown",
   "metadata": {},
   "source": [
    "# Import packages"
   ]
  },
  {
   "cell_type": "code",
   "execution_count": 1,
   "metadata": {},
   "outputs": [
    {
     "name": "stderr",
     "output_type": "stream",
     "text": [
      "/home/ubunt/anaconda3/lib/python3.6/site-packages/h5py/__init__.py:36: FutureWarning: Conversion of the second argument of issubdtype from `float` to `np.floating` is deprecated. In future, it will be treated as `np.float64 == np.dtype(float).type`.\n",
      "  from ._conv import register_converters as _register_converters\n",
      "Using TensorFlow backend.\n"
     ]
    },
    {
     "data": {
      "text/plain": [
       "'/home/ubunt/wav2mid/notebooks'"
      ]
     },
     "execution_count": 1,
     "metadata": {},
     "output_type": "execute_result"
    }
   ],
   "source": [
    "from keras.backend.tensorflow_backend import set_session\n",
    "from keras.models import Sequential\n",
    "from keras.layers import Conv2D\n",
    "from keras.layers import MaxPooling2D, AveragePooling2D\n",
    "from keras.layers import Flatten\n",
    "from keras.layers import Dense\n",
    "from keras.preprocessing.image import ImageDataGenerator\n",
    "from keras import callbacks\n",
    "from keras.models import Model\n",
    "from keras.layers import Dense, Dropout, Flatten, Activation, BatchNormalization\n",
    "from keras import optimizers\n",
    "from keras import backend as K\n",
    "from keras.utils import to_categorical\n",
    "\n",
    "from __future__ import division\n",
    "from IPython.display import Audio,display\n",
    "from collections import defaultdict\n",
    "from PIL import Image\n",
    "\n",
    "import sys\n",
    "import argparse\n",
    "import numpy as np\n",
    "import matplotlib.pyplot as plt\n",
    "import pretty_midi\n",
    "import pylab\n",
    "import librosa, librosa.display\n",
    "import itertools\n",
    "import os\n",
    "import re\n",
    "import glob\n",
    "import pandas as pd\n",
    "\n",
    "os.getcwd()"
   ]
  },
  {
   "cell_type": "markdown",
   "metadata": {},
   "source": [
    "# Load Model"
   ]
  },
  {
   "cell_type": "code",
   "execution_count": 2,
   "metadata": {},
   "outputs": [],
   "source": [
    "Adam = optimizers.Adam()"
   ]
  },
  {
   "cell_type": "code",
   "execution_count": 3,
   "metadata": {},
   "outputs": [],
   "source": [
    "classifier = Sequential()\n",
    "\n",
    "classifier.add(Conv2D(16, (3, 3), activation = 'relu',kernel_initializer='he_normal',input_shape = (224,224,3))) # 222 * 222\n",
    "classifier.add(BatchNormalization())\n",
    "classifier.add(Conv2D(16, (3, 3), activation = 'relu',kernel_initializer='he_normal')) # 220 * 220\n",
    "classifier.add(BatchNormalization())\n",
    "classifier.add(Conv2D(16, (3, 3), activation = 'relu',kernel_initializer='he_normal')) # 218 * 218\n",
    "classifier.add(BatchNormalization())\n",
    "classifier.add(Conv2D(16, (3, 3), activation = 'relu',kernel_initializer='he_normal')) # 216 * 216\n",
    "classifier.add(BatchNormalization())\n",
    "\n",
    "classifier.add(Conv2D(16, (3, 3), activation = 'relu',kernel_initializer='he_normal')) # 214 * 214\n",
    "classifier.add(BatchNormalization())\n",
    "classifier.add(Conv2D(88, (3, 3), activation = 'relu',kernel_initializer='he_normal')) # 212 * 212\n",
    "classifier.add(BatchNormalization())\n",
    "classifier.add(AveragePooling2D(pool_size=(106,106)))\n",
    "\n",
    "classifier.add(Flatten())\n",
    "classifier.add(Dense(units = 88, activation = 'sigmoid'))\n",
    "classifier.compile(optimizer = Adam, loss = 'binary_crossentropy', metrics = ['accuracy'])"
   ]
  },
  {
   "cell_type": "code",
   "execution_count": 4,
   "metadata": {},
   "outputs": [],
   "source": [
    "weight_path = \"/home/ubunt/wav2mid/data/weights/\"\n",
    "classifier.load_weights(weight_path + \"w_88layer_pickle1_10_pickle2_10_pickle3_10_pickle4_10_pickle5_10_pickle6_10.hd5\")"
   ]
  },
  {
   "cell_type": "code",
   "execution_count": 5,
   "metadata": {},
   "outputs": [],
   "source": [
    "# Load best threshold\n",
    "threshold_path = \"/home/ubunt/wav2mid/threshold/\"\n",
    "best_threshold=pd.read_csv(threshold_path + '1109_best_threshold.csv'); best_threshold=np.array(best_threshold['0'])"
   ]
  },
  {
   "cell_type": "markdown",
   "metadata": {},
   "source": [
    "# Load MP3"
   ]
  },
  {
   "cell_type": "code",
   "execution_count": 6,
   "metadata": {},
   "outputs": [],
   "source": [
    "wav_path = \"/home/ubunt/wav2mid/data/wav/\"\n",
    "y,sr = librosa.load(wav_path + 'summer.wav')\n",
    "# Spectrogram size\n",
    "size=(224,224)\n",
    "# cqt 변환\n",
    "D = librosa.cqt(y)\n",
    "\n",
    "# envelope(음색,악기) 탐색\n",
    "oenv = librosa.onset.onset_strength(y=y, sr=sr)\n",
    "# 눌린 위치 최고점 탐색\n",
    "onset_raw = librosa.onset.onset_detect(onset_envelope=oenv,backtrack=False)\n",
    "# 눌린 위치 시작점 탐색\n",
    "onset_bt = librosa.onset.onset_backtrack(onset_raw, oenv)\n",
    "# frame을 시간단위로 변환\n",
    "onset_bt_time=librosa.frames_to_time(onset_bt)"
   ]
  },
  {
   "cell_type": "code",
   "execution_count": 7,
   "metadata": {},
   "outputs": [],
   "source": [
    "# 5frame crop\n",
    "inputs = []\n",
    "for o in onset_bt:\n",
    "    inputs.append(D[:,o:(o+5)])"
   ]
  },
  {
   "cell_type": "code",
   "execution_count": 8,
   "metadata": {},
   "outputs": [],
   "source": [
    "# shape 변환\n",
    "inputs = np.array(inputs)\n",
    "inputs = np.swapaxes(inputs,1,2)"
   ]
  },
  {
   "cell_type": "code",
   "execution_count": 9,
   "metadata": {},
   "outputs": [],
   "source": [
    "path = \"/home/ubunt/wav2mid/data/test/summer/\""
   ]
  },
  {
   "cell_type": "code",
   "execution_count": 23,
   "metadata": {
    "scrolled": true
   },
   "outputs": [
    {
     "name": "stderr",
     "output_type": "stream",
     "text": [
      "/home/ubunt/anaconda3/lib/python3.6/site-packages/librosa/core/spectrum.py:960: UserWarning: amplitude_to_db was called on complex input so phase information will be discarded. To suppress this warning, call amplitude_to_db(np.abs(S)) instead.\n",
      "  warnings.warn('amplitude_to_db was called on complex input so phase '\n",
      "/home/ubunt/anaconda3/lib/python3.6/site-packages/matplotlib/cbook/deprecation.py:107: MatplotlibDeprecationWarning: Adding an axes using the same arguments as a previous axes currently reuses the earlier instance.  In a future version, a new instance will always be created and returned.  Meanwhile, this warning can be suppressed, and the future behavior ensured, by passing a unique label to each axes instance.\n",
      "  warnings.warn(message, mplDeprecation, stacklevel=1)\n"
     ]
    },
    {
     "data": {
      "image/png": "[encoded data removed]",
      "text/plain": [
       "<Figure size 432x288 with 2 Axes>"
      ]
     },
     "metadata": {},
     "output_type": "display_data"
    }
   ],
   "source": [
    "# spectrogram 저장\n",
    "for i in range(inputs.shape[0]) :\n",
    "    # 폴더 생성\n",
    "    if not(os.path.isdir(path)):\n",
    "        os.makedirs(os.path.join(path))\n",
    "    \n",
    "    # 시간순대로 저장하기 위함\n",
    "    save_path = path + '{:04}'.format(i) + '.jpg'\n",
    "        \n",
    "    pylab.axis('off')\n",
    "    pylab.axes([0., 0., 1., 1.], frameon=False, xticks=[], yticks=[])\n",
    "    librosa.display.specshow(librosa.amplitude_to_db(inputs[i].T,ref=np.max), y_axis='cqt_note', x_axis='time', sr=sr)\n",
    "    pylab.savefig(save_path, bbox_inches=None, pad_inches=0)\n",
    "    image = Image.open(save_path)\n",
    "    resize = image.resize(size)\n",
    "    resize.save(save_path)\n",
    "    image.close()\n",
    "    resize.close()"
   ]
  },
  {
   "cell_type": "code",
   "execution_count": 10,
   "metadata": {},
   "outputs": [],
   "source": [
    "from glob import glob"
   ]
  },
  {
   "cell_type": "code",
   "execution_count": 11,
   "metadata": {},
   "outputs": [],
   "source": [
    "data=[]\n",
    "# 시간순대로 불러오기\n",
    "for file in sorted(glob(path + '/*.jpg')):\n",
    "    img=Image.open(file)\n",
    "    img=np.array(img)\n",
    "    img=img.reshape(1,224,224,3)\n",
    "    data.append(img)"
   ]
  },
  {
   "cell_type": "code",
   "execution_count": 12,
   "metadata": {
    "scrolled": true
   },
   "outputs": [
    {
     "data": {
      "text/plain": [
       "['/home/ubunt/wav2mid/data/test/summer/0000.jpg',\n",
       " '/home/ubunt/wav2mid/data/test/summer/0001.jpg',\n",
       " '/home/ubunt/wav2mid/data/test/summer/0002.jpg',\n",
       " '/home/ubunt/wav2mid/data/test/summer/0003.jpg',\n",
       " '/home/ubunt/wav2mid/data/test/summer/0004.jpg',\n",
       " '/home/ubunt/wav2mid/data/test/summer/0005.jpg',\n",
       " '/home/ubunt/wav2mid/data/test/summer/0006.jpg',\n",
       " '/home/ubunt/wav2mid/data/test/summer/0007.jpg',\n",
       " '/home/ubunt/wav2mid/data/test/summer/0008.jpg',\n",
       " '/home/ubunt/wav2mid/data/test/summer/0009.jpg',\n",
       " '/home/ubunt/wav2mid/data/test/summer/0010.jpg',\n",
       " '/home/ubunt/wav2mid/data/test/summer/0011.jpg',\n",
       " '/home/ubunt/wav2mid/data/test/summer/0012.jpg',\n",
       " '/home/ubunt/wav2mid/data/test/summer/0013.jpg',\n",
       " '/home/ubunt/wav2mid/data/test/summer/0014.jpg',\n",
       " '/home/ubunt/wav2mid/data/test/summer/0015.jpg',\n",
       " '/home/ubunt/wav2mid/data/test/summer/0016.jpg',\n",
       " '/home/ubunt/wav2mid/data/test/summer/0017.jpg',\n",
       " '/home/ubunt/wav2mid/data/test/summer/0018.jpg',\n",
       " '/home/ubunt/wav2mid/data/test/summer/0019.jpg',\n",
       " '/home/ubunt/wav2mid/data/test/summer/0020.jpg',\n",
       " '/home/ubunt/wav2mid/data/test/summer/0021.jpg',\n",
       " '/home/ubunt/wav2mid/data/test/summer/0022.jpg',\n",
       " '/home/ubunt/wav2mid/data/test/summer/0023.jpg',\n",
       " '/home/ubunt/wav2mid/data/test/summer/0024.jpg',\n",
       " '/home/ubunt/wav2mid/data/test/summer/0025.jpg',\n",
       " '/home/ubunt/wav2mid/data/test/summer/0026.jpg',\n",
       " '/home/ubunt/wav2mid/data/test/summer/0027.jpg',\n",
       " '/home/ubunt/wav2mid/data/test/summer/0028.jpg',\n",
       " '/home/ubunt/wav2mid/data/test/summer/0029.jpg',\n",
       " '/home/ubunt/wav2mid/data/test/summer/0030.jpg',\n",
       " '/home/ubunt/wav2mid/data/test/summer/0031.jpg',\n",
       " '/home/ubunt/wav2mid/data/test/summer/0032.jpg',\n",
       " '/home/ubunt/wav2mid/data/test/summer/0033.jpg',\n",
       " '/home/ubunt/wav2mid/data/test/summer/0034.jpg',\n",
       " '/home/ubunt/wav2mid/data/test/summer/0035.jpg',\n",
       " '/home/ubunt/wav2mid/data/test/summer/0036.jpg',\n",
       " '/home/ubunt/wav2mid/data/test/summer/0037.jpg',\n",
       " '/home/ubunt/wav2mid/data/test/summer/0038.jpg',\n",
       " '/home/ubunt/wav2mid/data/test/summer/0039.jpg',\n",
       " '/home/ubunt/wav2mid/data/test/summer/0040.jpg',\n",
       " '/home/ubunt/wav2mid/data/test/summer/0041.jpg',\n",
       " '/home/ubunt/wav2mid/data/test/summer/0042.jpg',\n",
       " '/home/ubunt/wav2mid/data/test/summer/0043.jpg',\n",
       " '/home/ubunt/wav2mid/data/test/summer/0044.jpg',\n",
       " '/home/ubunt/wav2mid/data/test/summer/0045.jpg',\n",
       " '/home/ubunt/wav2mid/data/test/summer/0046.jpg',\n",
       " '/home/ubunt/wav2mid/data/test/summer/0047.jpg',\n",
       " '/home/ubunt/wav2mid/data/test/summer/0048.jpg',\n",
       " '/home/ubunt/wav2mid/data/test/summer/0049.jpg',\n",
       " '/home/ubunt/wav2mid/data/test/summer/0050.jpg',\n",
       " '/home/ubunt/wav2mid/data/test/summer/0051.jpg',\n",
       " '/home/ubunt/wav2mid/data/test/summer/0052.jpg',\n",
       " '/home/ubunt/wav2mid/data/test/summer/0053.jpg',\n",
       " '/home/ubunt/wav2mid/data/test/summer/0054.jpg',\n",
       " '/home/ubunt/wav2mid/data/test/summer/0055.jpg',\n",
       " '/home/ubunt/wav2mid/data/test/summer/0056.jpg',\n",
       " '/home/ubunt/wav2mid/data/test/summer/0057.jpg',\n",
       " '/home/ubunt/wav2mid/data/test/summer/0058.jpg',\n",
       " '/home/ubunt/wav2mid/data/test/summer/0059.jpg',\n",
       " '/home/ubunt/wav2mid/data/test/summer/0060.jpg',\n",
       " '/home/ubunt/wav2mid/data/test/summer/0061.jpg',\n",
       " '/home/ubunt/wav2mid/data/test/summer/0062.jpg',\n",
       " '/home/ubunt/wav2mid/data/test/summer/0063.jpg',\n",
       " '/home/ubunt/wav2mid/data/test/summer/0064.jpg',\n",
       " '/home/ubunt/wav2mid/data/test/summer/0065.jpg',\n",
       " '/home/ubunt/wav2mid/data/test/summer/0066.jpg',\n",
       " '/home/ubunt/wav2mid/data/test/summer/0067.jpg',\n",
       " '/home/ubunt/wav2mid/data/test/summer/0068.jpg',\n",
       " '/home/ubunt/wav2mid/data/test/summer/0069.jpg',\n",
       " '/home/ubunt/wav2mid/data/test/summer/0070.jpg',\n",
       " '/home/ubunt/wav2mid/data/test/summer/0071.jpg',\n",
       " '/home/ubunt/wav2mid/data/test/summer/0072.jpg',\n",
       " '/home/ubunt/wav2mid/data/test/summer/0073.jpg',\n",
       " '/home/ubunt/wav2mid/data/test/summer/0074.jpg',\n",
       " '/home/ubunt/wav2mid/data/test/summer/0075.jpg',\n",
       " '/home/ubunt/wav2mid/data/test/summer/0076.jpg',\n",
       " '/home/ubunt/wav2mid/data/test/summer/0077.jpg',\n",
       " '/home/ubunt/wav2mid/data/test/summer/0078.jpg',\n",
       " '/home/ubunt/wav2mid/data/test/summer/0079.jpg',\n",
       " '/home/ubunt/wav2mid/data/test/summer/0080.jpg',\n",
       " '/home/ubunt/wav2mid/data/test/summer/0081.jpg',\n",
       " '/home/ubunt/wav2mid/data/test/summer/0082.jpg',\n",
       " '/home/ubunt/wav2mid/data/test/summer/0083.jpg',\n",
       " '/home/ubunt/wav2mid/data/test/summer/0084.jpg',\n",
       " '/home/ubunt/wav2mid/data/test/summer/0085.jpg',\n",
       " '/home/ubunt/wav2mid/data/test/summer/0086.jpg',\n",
       " '/home/ubunt/wav2mid/data/test/summer/0087.jpg',\n",
       " '/home/ubunt/wav2mid/data/test/summer/0088.jpg',\n",
       " '/home/ubunt/wav2mid/data/test/summer/0089.jpg',\n",
       " '/home/ubunt/wav2mid/data/test/summer/0090.jpg',\n",
       " '/home/ubunt/wav2mid/data/test/summer/0091.jpg',\n",
       " '/home/ubunt/wav2mid/data/test/summer/0092.jpg',\n",
       " '/home/ubunt/wav2mid/data/test/summer/0093.jpg',\n",
       " '/home/ubunt/wav2mid/data/test/summer/0094.jpg',\n",
       " '/home/ubunt/wav2mid/data/test/summer/0095.jpg',\n",
       " '/home/ubunt/wav2mid/data/test/summer/0096.jpg',\n",
       " '/home/ubunt/wav2mid/data/test/summer/0097.jpg',\n",
       " '/home/ubunt/wav2mid/data/test/summer/0098.jpg',\n",
       " '/home/ubunt/wav2mid/data/test/summer/0099.jpg',\n",
       " '/home/ubunt/wav2mid/data/test/summer/0100.jpg',\n",
       " '/home/ubunt/wav2mid/data/test/summer/0101.jpg',\n",
       " '/home/ubunt/wav2mid/data/test/summer/0102.jpg',\n",
       " '/home/ubunt/wav2mid/data/test/summer/0103.jpg',\n",
       " '/home/ubunt/wav2mid/data/test/summer/0104.jpg',\n",
       " '/home/ubunt/wav2mid/data/test/summer/0105.jpg',\n",
       " '/home/ubunt/wav2mid/data/test/summer/0106.jpg',\n",
       " '/home/ubunt/wav2mid/data/test/summer/0107.jpg',\n",
       " '/home/ubunt/wav2mid/data/test/summer/0108.jpg',\n",
       " '/home/ubunt/wav2mid/data/test/summer/0109.jpg',\n",
       " '/home/ubunt/wav2mid/data/test/summer/0110.jpg',\n",
       " '/home/ubunt/wav2mid/data/test/summer/0111.jpg',\n",
       " '/home/ubunt/wav2mid/data/test/summer/0112.jpg',\n",
       " '/home/ubunt/wav2mid/data/test/summer/0113.jpg',\n",
       " '/home/ubunt/wav2mid/data/test/summer/0114.jpg',\n",
       " '/home/ubunt/wav2mid/data/test/summer/0115.jpg',\n",
       " '/home/ubunt/wav2mid/data/test/summer/0116.jpg',\n",
       " '/home/ubunt/wav2mid/data/test/summer/0117.jpg',\n",
       " '/home/ubunt/wav2mid/data/test/summer/0118.jpg',\n",
       " '/home/ubunt/wav2mid/data/test/summer/0119.jpg',\n",
       " '/home/ubunt/wav2mid/data/test/summer/0120.jpg',\n",
       " '/home/ubunt/wav2mid/data/test/summer/0121.jpg',\n",
       " '/home/ubunt/wav2mid/data/test/summer/0122.jpg',\n",
       " '/home/ubunt/wav2mid/data/test/summer/0123.jpg',\n",
       " '/home/ubunt/wav2mid/data/test/summer/0124.jpg',\n",
       " '/home/ubunt/wav2mid/data/test/summer/0125.jpg',\n",
       " '/home/ubunt/wav2mid/data/test/summer/0126.jpg',\n",
       " '/home/ubunt/wav2mid/data/test/summer/0127.jpg',\n",
       " '/home/ubunt/wav2mid/data/test/summer/0128.jpg',\n",
       " '/home/ubunt/wav2mid/data/test/summer/0129.jpg',\n",
       " '/home/ubunt/wav2mid/data/test/summer/0130.jpg',\n",
       " '/home/ubunt/wav2mid/data/test/summer/0131.jpg',\n",
       " '/home/ubunt/wav2mid/data/test/summer/0132.jpg',\n",
       " '/home/ubunt/wav2mid/data/test/summer/0133.jpg',\n",
       " '/home/ubunt/wav2mid/data/test/summer/0134.jpg',\n",
       " '/home/ubunt/wav2mid/data/test/summer/0135.jpg',\n",
       " '/home/ubunt/wav2mid/data/test/summer/0136.jpg',\n",
       " '/home/ubunt/wav2mid/data/test/summer/0137.jpg',\n",
       " '/home/ubunt/wav2mid/data/test/summer/0138.jpg',\n",
       " '/home/ubunt/wav2mid/data/test/summer/0139.jpg',\n",
       " '/home/ubunt/wav2mid/data/test/summer/0140.jpg',\n",
       " '/home/ubunt/wav2mid/data/test/summer/0141.jpg',\n",
       " '/home/ubunt/wav2mid/data/test/summer/0142.jpg',\n",
       " '/home/ubunt/wav2mid/data/test/summer/0143.jpg',\n",
       " '/home/ubunt/wav2mid/data/test/summer/0144.jpg',\n",
       " '/home/ubunt/wav2mid/data/test/summer/0145.jpg',\n",
       " '/home/ubunt/wav2mid/data/test/summer/0146.jpg',\n",
       " '/home/ubunt/wav2mid/data/test/summer/0147.jpg',\n",
       " '/home/ubunt/wav2mid/data/test/summer/0148.jpg',\n",
       " '/home/ubunt/wav2mid/data/test/summer/0149.jpg',\n",
       " '/home/ubunt/wav2mid/data/test/summer/0150.jpg',\n",
       " '/home/ubunt/wav2mid/data/test/summer/0151.jpg',\n",
       " '/home/ubunt/wav2mid/data/test/summer/0152.jpg',\n",
       " '/home/ubunt/wav2mid/data/test/summer/0153.jpg',\n",
       " '/home/ubunt/wav2mid/data/test/summer/0154.jpg',\n",
       " '/home/ubunt/wav2mid/data/test/summer/0155.jpg',\n",
       " '/home/ubunt/wav2mid/data/test/summer/0156.jpg',\n",
       " '/home/ubunt/wav2mid/data/test/summer/0157.jpg',\n",
       " '/home/ubunt/wav2mid/data/test/summer/0158.jpg',\n",
       " '/home/ubunt/wav2mid/data/test/summer/0159.jpg',\n",
       " '/home/ubunt/wav2mid/data/test/summer/0160.jpg',\n",
       " '/home/ubunt/wav2mid/data/test/summer/0161.jpg',\n",
       " '/home/ubunt/wav2mid/data/test/summer/0162.jpg',\n",
       " '/home/ubunt/wav2mid/data/test/summer/0163.jpg',\n",
       " '/home/ubunt/wav2mid/data/test/summer/0164.jpg',\n",
       " '/home/ubunt/wav2mid/data/test/summer/0165.jpg',\n",
       " '/home/ubunt/wav2mid/data/test/summer/0166.jpg',\n",
       " '/home/ubunt/wav2mid/data/test/summer/0167.jpg',\n",
       " '/home/ubunt/wav2mid/data/test/summer/0168.jpg',\n",
       " '/home/ubunt/wav2mid/data/test/summer/0169.jpg',\n",
       " '/home/ubunt/wav2mid/data/test/summer/0170.jpg',\n",
       " '/home/ubunt/wav2mid/data/test/summer/0171.jpg',\n",
       " '/home/ubunt/wav2mid/data/test/summer/0172.jpg',\n",
       " '/home/ubunt/wav2mid/data/test/summer/0173.jpg',\n",
       " '/home/ubunt/wav2mid/data/test/summer/0174.jpg',\n",
       " '/home/ubunt/wav2mid/data/test/summer/0175.jpg',\n",
       " '/home/ubunt/wav2mid/data/test/summer/0176.jpg',\n",
       " '/home/ubunt/wav2mid/data/test/summer/0177.jpg',\n",
       " '/home/ubunt/wav2mid/data/test/summer/0178.jpg',\n",
       " '/home/ubunt/wav2mid/data/test/summer/0179.jpg',\n",
       " '/home/ubunt/wav2mid/data/test/summer/0180.jpg',\n",
       " '/home/ubunt/wav2mid/data/test/summer/0181.jpg',\n",
       " '/home/ubunt/wav2mid/data/test/summer/0182.jpg',\n",
       " '/home/ubunt/wav2mid/data/test/summer/0183.jpg',\n",
       " '/home/ubunt/wav2mid/data/test/summer/0184.jpg',\n",
       " '/home/ubunt/wav2mid/data/test/summer/0185.jpg',\n",
       " '/home/ubunt/wav2mid/data/test/summer/0186.jpg',\n",
       " '/home/ubunt/wav2mid/data/test/summer/0187.jpg',\n",
       " '/home/ubunt/wav2mid/data/test/summer/0188.jpg',\n",
       " '/home/ubunt/wav2mid/data/test/summer/0189.jpg',\n",
       " '/home/ubunt/wav2mid/data/test/summer/0190.jpg',\n",
       " '/home/ubunt/wav2mid/data/test/summer/0191.jpg',\n",
       " '/home/ubunt/wav2mid/data/test/summer/0192.jpg',\n",
       " '/home/ubunt/wav2mid/data/test/summer/0193.jpg',\n",
       " '/home/ubunt/wav2mid/data/test/summer/0194.jpg',\n",
       " '/home/ubunt/wav2mid/data/test/summer/0195.jpg',\n",
       " '/home/ubunt/wav2mid/data/test/summer/0196.jpg',\n",
       " '/home/ubunt/wav2mid/data/test/summer/0197.jpg',\n",
       " '/home/ubunt/wav2mid/data/test/summer/0198.jpg',\n",
       " '/home/ubunt/wav2mid/data/test/summer/0199.jpg',\n",
       " '/home/ubunt/wav2mid/data/test/summer/0200.jpg',\n",
       " '/home/ubunt/wav2mid/data/test/summer/0201.jpg',\n",
       " '/home/ubunt/wav2mid/data/test/summer/0202.jpg',\n",
       " '/home/ubunt/wav2mid/data/test/summer/0203.jpg',\n",
       " '/home/ubunt/wav2mid/data/test/summer/0204.jpg',\n",
       " '/home/ubunt/wav2mid/data/test/summer/0205.jpg',\n",
       " '/home/ubunt/wav2mid/data/test/summer/0206.jpg',\n",
       " '/home/ubunt/wav2mid/data/test/summer/0207.jpg',\n",
       " '/home/ubunt/wav2mid/data/test/summer/0208.jpg',\n",
       " '/home/ubunt/wav2mid/data/test/summer/0209.jpg',\n",
       " '/home/ubunt/wav2mid/data/test/summer/0210.jpg']"
      ]
     },
     "execution_count": 12,
     "metadata": {},
     "output_type": "execute_result"
    }
   ],
   "source": [
    "# check\n",
    "sorted(glob(path + '/*.jpg'))"
   ]
  },
  {
   "cell_type": "code",
   "execution_count": 13,
   "metadata": {},
   "outputs": [],
   "source": [
    "# 예측\n",
    "predict=[]\n",
    "for img in data:\n",
    "    predict.append(classifier.predict_proba(img)[0])"
   ]
  },
  {
   "cell_type": "code",
   "execution_count": 14,
   "metadata": {},
   "outputs": [],
   "source": [
    "# Thresholding\n",
    "pitchs=[]\n",
    "for i in predict:\n",
    "    pred = i > best_threshold\n",
    "    pitchs.append(np.where(pred==1)[0]+21)"
   ]
  },
  {
   "cell_type": "code",
   "execution_count": 15,
   "metadata": {},
   "outputs": [],
   "source": [
    "# Midi program 설정\n",
    "piano_midi = pretty_midi.PrettyMIDI()\n",
    "piano_program = pretty_midi.instrument_name_to_program('Acoustic Grand Piano')\n",
    "piano = pretty_midi.Instrument(program=piano_program)"
   ]
  },
  {
   "cell_type": "code",
   "execution_count": 17,
   "metadata": {},
   "outputs": [],
   "source": [
    "# Midi 생성\n",
    "for i, t in enumerate(onset_bt_time): # t: 시작, i+1: 끝 \n",
    "    for j in pitchs[i]:\n",
    "        try :\n",
    "            note = pretty_midi.Note(velocity=100, pitch=j, start=t, end=onset_bt_time[i+1])\n",
    "        except IndexError:\n",
    "            # 마지막 음, 2초를 끌어줌\n",
    "            note = pretty_midi.Note(velocity=100, pitch=j, start=t, end=t+2)\n",
    "        piano.notes.append(note)\n",
    "\n",
    "piano_midi.instruments.append(piano)\n",
    "save_path = \"/home/ubunt/wav2mid/final midi/\"\n",
    "piano_midi.write(save_path + '1109-summer.mid')"
   ]
  },
  {
   "cell_type": "code",
   "execution_count": null,
   "metadata": {},
   "outputs": [],
   "source": []
  }
 ],
 "metadata": {
  "kernelspec": {
   "display_name": "Python 3",
   "language": "python",
   "name": "python3"
  },
  "language_info": {
   "codemirror_mode": {
    "name": "ipython",
    "version": 3
   },
   "file_extension": ".py",
   "mimetype": "text/x-python",
   "name": "python",
   "nbconvert_exporter": "python",
   "pygments_lexer": "ipython3",
   "version": "3.6.5"
  }
 },
 "nbformat": 4,
 "nbformat_minor": 2
}
