{
 "cells": [
  {
   "cell_type": "markdown",
   "metadata": {},
   "source": [
    "# Import packages"
   ]
  },
  {
   "cell_type": "code",
   "execution_count": 1,
   "metadata": {},
   "outputs": [
    {
     "name": "stderr",
     "output_type": "stream",
     "text": [
      "/home/ubunt/anaconda3/lib/python3.6/site-packages/h5py/__init__.py:36: FutureWarning: Conversion of the second argument of issubdtype from `float` to `np.floating` is deprecated. In future, it will be treated as `np.float64 == np.dtype(float).type`.\n",
      "  from ._conv import register_converters as _register_converters\n",
      "Using TensorFlow backend.\n"
     ]
    }
   ],
   "source": [
    "from keras.backend.tensorflow_backend import set_session\n",
    "from keras.models import Sequential\n",
    "from keras.layers import Conv2D\n",
    "from keras.layers import MaxPooling2D, AveragePooling2D\n",
    "from keras.layers import Flatten\n",
    "from keras.layers import Dense\n",
    "from keras.preprocessing.image import ImageDataGenerator\n",
    "from keras import callbacks\n",
    "from keras.models import Model\n",
    "from keras.layers import Dense, Dropout, Flatten, Activation, BatchNormalization\n",
    "from keras import optimizers\n",
    "from keras import backend as K\n",
    "from keras.utils import to_categorical\n",
    "import tensorflow as tf\n",
    "\n",
    "import glob\n",
    "import imageio\n",
    "import pandas as pd\n",
    "import os\n",
    "import re\n",
    "import numpy as np"
   ]
  },
  {
   "cell_type": "markdown",
   "metadata": {},
   "source": [
    "# Load data & preprocessing"
   ]
  },
  {
   "cell_type": "code",
   "execution_count": 4,
   "metadata": {},
   "outputs": [
    {
     "data": {
      "text/plain": [
       "37"
      ]
     },
     "execution_count": 4,
     "metadata": {},
     "output_type": "execute_result"
    }
   ],
   "source": [
    "# path 설정\n",
    "folder_path = '/home/ubunt/wav2mid/data/cnn inputs4/*'\n",
    "remove_len = len('/home/ubunt/wav2mid/data/cnn inputs4/')\n",
    "remove_len"
   ]
  },
  {
   "cell_type": "code",
   "execution_count": 5,
   "metadata": {},
   "outputs": [
    {
     "data": {
      "text/plain": [
       "74"
      ]
     },
     "execution_count": 5,
     "metadata": {},
     "output_type": "execute_result"
    }
   ],
   "source": [
    "# label 개수\n",
    "a=glob.glob(folder_path + \"*\")\n",
    "len(a)"
   ]
  },
  {
   "cell_type": "code",
   "execution_count": 9,
   "metadata": {},
   "outputs": [
    {
     "name": "stdout",
     "output_type": "stream",
     "text": [
      "/home/ubunt/wav2mid/data/cnn inputs4/52_71 \n",
      " /home/ubunt/wav2mid/data/cnn inputs4/45\n"
     ]
    }
   ],
   "source": [
    "# check\n",
    "print(a[0],'\\n',a[1])"
   ]
  },
  {
   "cell_type": "code",
   "execution_count": 10,
   "metadata": {},
   "outputs": [
    {
     "name": "stdout",
     "output_type": "stream",
     "text": [
      "['52_71', '45', '68_71', '85', '59_68', '61_76', '54_73_81', '59_71', '54_69', '47_81', '52_73', '64_81', '42_69', '62', '49_76', '62_81', '74', '73', '59_74', '57', '80', '78', '64', '86', '52_74', '61_88', '57_76', '68', '69', '54', '52_64_68_71', '61', '59', '45_49', '42_45', '54_61_69', '52', '62_73', '45_74', '45_76', '83', '40_80', '42_81', '52_83', '64_85', '52_81', '52_68', '57_61_69', '66', '61_81', '57_69_76', '45_81', '50_73', '47_71', '47_76', '61_80', '45_64_73', '54_81', '57_69', '57_81', '66_81', '49', '81', '59_81', '49_81', '57_74', '52_80', '52_64_66_71', '50', '71', '45_73', '50_81', '59_76', '52_85']\n"
     ]
    }
   ],
   "source": [
    "# label list 생성\n",
    "class_list = []  \n",
    "for i in range(len(a)) :\n",
    "    class_list.append(a[i][remove_len:])\n",
    "print(class_list)"
   ]
  },
  {
   "cell_type": "code",
   "execution_count": 11,
   "metadata": {},
   "outputs": [],
   "source": [
    "# 총 train data 개수\n",
    "val_len_list = 0\n",
    "for i in range(len(a)) :\n",
    "    val_len_list += int(len(glob.glob(a[i] + \"/*.jpg\")))"
   ]
  },
  {
   "cell_type": "code",
   "execution_count": 12,
   "metadata": {},
   "outputs": [
    {
     "data": {
      "text/plain": [
       "13026"
      ]
     },
     "execution_count": 12,
     "metadata": {},
     "output_type": "execute_result"
    }
   ],
   "source": [
    "val_len_list"
   ]
  },
  {
   "cell_type": "code",
   "execution_count": 15,
   "metadata": {
    "scrolled": true
   },
   "outputs": [
    {
     "name": "stdout",
     "output_type": "stream",
     "text": [
      "dataset52_71complete!\n",
      "dataset45complete!\n",
      "dataset68_71complete!\n",
      "dataset85complete!\n",
      "dataset59_68complete!\n",
      "dataset61_76complete!\n",
      "dataset54_73_81complete!\n",
      "dataset59_71complete!\n",
      "dataset54_69complete!\n",
      "dataset47_81complete!\n",
      "dataset52_73complete!\n",
      "dataset64_81complete!\n",
      "dataset42_69complete!\n",
      "dataset62complete!\n",
      "dataset49_76complete!\n",
      "dataset62_81complete!\n",
      "dataset74complete!\n",
      "dataset73complete!\n",
      "dataset59_74complete!\n",
      "dataset57complete!\n",
      "dataset80complete!\n",
      "dataset78complete!\n",
      "dataset64complete!\n",
      "dataset86complete!\n",
      "dataset52_74complete!\n",
      "dataset61_88complete!\n",
      "dataset57_76complete!\n",
      "dataset68complete!\n",
      "dataset69complete!\n",
      "dataset54complete!\n",
      "dataset52_64_68_71complete!\n",
      "dataset61complete!\n",
      "dataset59complete!\n",
      "dataset45_49complete!\n",
      "dataset42_45complete!\n",
      "dataset54_61_69complete!\n",
      "dataset52complete!\n",
      "dataset62_73complete!\n",
      "dataset45_74complete!\n",
      "dataset45_76complete!\n",
      "dataset83complete!\n",
      "dataset40_80complete!\n",
      "dataset42_81complete!\n",
      "dataset52_83complete!\n",
      "dataset64_85complete!\n",
      "dataset52_81complete!\n",
      "dataset52_68complete!\n",
      "dataset57_61_69complete!\n",
      "dataset66complete!\n",
      "dataset61_81complete!\n",
      "dataset57_69_76complete!\n",
      "dataset45_81complete!\n",
      "dataset50_73complete!\n",
      "dataset47_71complete!\n",
      "dataset47_76complete!\n",
      "dataset61_80complete!\n",
      "dataset45_64_73complete!\n",
      "dataset54_81complete!\n",
      "dataset57_69complete!\n",
      "dataset57_81complete!\n",
      "dataset66_81complete!\n",
      "dataset49complete!\n",
      "dataset81complete!\n",
      "dataset59_81complete!\n",
      "dataset49_81complete!\n",
      "dataset57_74complete!\n",
      "dataset52_80complete!\n",
      "dataset52_64_66_71complete!\n",
      "dataset50complete!\n",
      "dataset71complete!\n",
      "dataset45_73complete!\n",
      "dataset50_81complete!\n",
      "dataset59_76complete!\n",
      "dataset52_85complete!\n",
      "13026\n"
     ]
    }
   ],
   "source": [
    "# 모든 이미지가 저장\n",
    "dataset=[] \n",
    "# 88개 one-hot label\n",
    "Y_list=[]\n",
    "# 88개 음에 대한 리스트.21~108\n",
    "list88 = [str(i) for i in range(21,109)] \n",
    "# 각 음 폴더에 사진이 몇 장들어가는지 (몇 번 등장하는지)\n",
    "class_len_list=[] \n",
    "\n",
    "for i in range(len(class_list)):\n",
    "    Y=np.zeros(len(list88))\n",
    "    #i번 폴더의 이름에 들어가는 숫자를 전부 추출 (22_42 -> 22,42)\n",
    "    find=re.findall(\"[0-9]+\", class_list[i]) \n",
    "    \n",
    "    # 해당 숫자 one-hot encoding\n",
    "    for k in range(len(find)):\n",
    "        Y[list88.index(find[k])] = 1\n",
    "\n",
    "    # 각 라벨 폴더에서 이미지 가져오가 \n",
    "    for image_path in glob.glob(a[i]+\"/*.jpg\"): \n",
    "        # image load\n",
    "        im = imageio.imread(image_path)\n",
    "        # append\n",
    "        Y_list.append(Y)\n",
    "        dataset.append(im)\n",
    "    \n",
    "    # 해당 폴더의 이미지 개수 for KNN\n",
    "    class_len_list.append(len(glob.glob(a[i]+\"/*.jpg\")))\n",
    "    print('dataset'+ str(a[i][remove_len:])+'complete!')\n",
    "print('file_num :',len(dataset))\n",
    "dataset = np.array(dataset)"
   ]
  },
  {
   "cell_type": "code",
   "execution_count": 16,
   "metadata": {},
   "outputs": [],
   "source": [
    "# Final label *\n",
    "y = np.array(Y_list)\n",
    "Y = np.eye(3)[y.astype(int)]\n",
    "\n",
    "change_y=np.array(Y_list)\n",
    "change_Y=np.eye(3)[change_y.astype(int)]"
   ]
  },
  {
   "cell_type": "code",
   "execution_count": 17,
   "metadata": {
    "scrolled": true
   },
   "outputs": [
    {
     "data": {
      "text/plain": [
       "(13026, 224, 224, 3)"
      ]
     },
     "execution_count": 17,
     "metadata": {},
     "output_type": "execute_result"
    }
   ],
   "source": [
    "# 확인\n",
    "dataset.shape"
   ]
  },
  {
   "cell_type": "markdown",
   "metadata": {},
   "source": [
    "# Modeling"
   ]
  },
  {
   "cell_type": "code",
   "execution_count": 18,
   "metadata": {},
   "outputs": [],
   "source": [
    "# Optimizer\n",
    "Adam = optimizers.Adam()"
   ]
  },
  {
   "cell_type": "code",
   "execution_count": 23,
   "metadata": {
    "scrolled": true
   },
   "outputs": [],
   "source": [
    "# Modeling * 전이학습 비교 필요\n",
    "classifier = Sequential()\n",
    "\n",
    "classifier.add(Conv2D(16, (3, 3), activation = 'relu',kernel_initializer='he_normal',input_shape = (224,224,3))) # 222 * 222\n",
    "classifier.add(BatchNormalization())\n",
    "classifier.add(Conv2D(16, (3, 3), activation = 'relu',kernel_initializer='he_normal')) # 220 * 220\n",
    "classifier.add(BatchNormalization())\n",
    "classifier.add(Conv2D(16, (3, 3), activation = 'relu',kernel_initializer='he_normal')) # 218 * 218\n",
    "classifier.add(BatchNormalization())\n",
    "classifier.add(Conv2D(16, (3, 3), activation = 'relu',kernel_initializer='he_normal')) # 216 * 216\n",
    "classifier.add(BatchNormalization())\n",
    "\n",
    "classifier.add(Conv2D(16, (3, 3), activation = 'relu',kernel_initializer='he_normal')) # 214 * 214\n",
    "classifier.add(BatchNormalization())\n",
    "classifier.add(Conv2D(88, (3, 3), activation = 'relu',kernel_initializer='he_normal')) # 212 * 212\n",
    "classifier.add(BatchNormalization())\n",
    "classifier.add(AveragePooling2D(pool_size=(106,106)))\n",
    "\n",
    "classifier.add(Flatten())\n",
    "classifier.add(Dense(units = 88, activation = 'sigmoid'))\n",
    "classifier.compile(optimizer = Adam, loss = 'binary_crossentropy', metrics = ['accuracy'])"
   ]
  },
  {
   "cell_type": "code",
   "execution_count": 24,
   "metadata": {
    "scrolled": false
   },
   "outputs": [
    {
     "name": "stdout",
     "output_type": "stream",
     "text": [
      "_________________________________________________________________\n",
      "Layer (type)                 Output Shape              Param #   \n",
      "=================================================================\n",
      "conv2d_7 (Conv2D)            (None, 222, 222, 16)      448       \n",
      "_________________________________________________________________\n",
      "batch_normalization_7 (Batch (None, 222, 222, 16)      64        \n",
      "_________________________________________________________________\n",
      "conv2d_8 (Conv2D)            (None, 220, 220, 16)      2320      \n",
      "_________________________________________________________________\n",
      "batch_normalization_8 (Batch (None, 220, 220, 16)      64        \n",
      "_________________________________________________________________\n",
      "conv2d_9 (Conv2D)            (None, 218, 218, 16)      2320      \n",
      "_________________________________________________________________\n",
      "batch_normalization_9 (Batch (None, 218, 218, 16)      64        \n",
      "_________________________________________________________________\n",
      "conv2d_10 (Conv2D)           (None, 216, 216, 16)      2320      \n",
      "_________________________________________________________________\n",
      "batch_normalization_10 (Batc (None, 216, 216, 16)      64        \n",
      "_________________________________________________________________\n",
      "conv2d_11 (Conv2D)           (None, 214, 214, 16)      2320      \n",
      "_________________________________________________________________\n",
      "batch_normalization_11 (Batc (None, 214, 214, 16)      64        \n",
      "_________________________________________________________________\n",
      "conv2d_12 (Conv2D)           (None, 212, 212, 16)      2320      \n",
      "_________________________________________________________________\n",
      "batch_normalization_12 (Batc (None, 212, 212, 16)      64        \n",
      "_________________________________________________________________\n",
      "average_pooling2d_2 (Average (None, 2, 2, 16)          0         \n",
      "_________________________________________________________________\n",
      "flatten_2 (Flatten)          (None, 64)                0         \n",
      "_________________________________________________________________\n",
      "dense_2 (Dense)              (None, 88)                5720      \n",
      "=================================================================\n",
      "Total params: 18,152\n",
      "Trainable params: 17,960\n",
      "Non-trainable params: 192\n",
      "_________________________________________________________________\n"
     ]
    }
   ],
   "source": [
    "classifier.summary()"
   ]
  },
  {
   "cell_type": "code",
   "execution_count": 15,
   "metadata": {},
   "outputs": [],
   "source": [
    "# 가중치 가져오기\n",
    "# classifier.load_weights(\"/home/ubunt/wav2mid/data/weights/w_88layer_pickle1_10_pickle2_10_pickle3_10_pickle4_10_pickle5_3.h5\")"
   ]
  },
  {
   "cell_type": "code",
   "execution_count": 25,
   "metadata": {
    "scrolled": true
   },
   "outputs": [
    {
     "name": "stdout",
     "output_type": "stream",
     "text": [
      "Epoch 1/15\n",
      "  544/13026 [>.............................] - ETA: 3:06 - loss: 0.6641 - acc: 0.6810"
     ]
    },
    {
     "ename": "KeyboardInterrupt",
     "evalue": "",
     "output_type": "error",
     "traceback": [
      "\u001b[0;31m---------------------------------------------------------------------------\u001b[0m",
      "\u001b[0;31mKeyboardInterrupt\u001b[0m                         Traceback (most recent call last)",
      "\u001b[0;32m<ipython-input-25-01a3a3078c39>\u001b[0m in \u001b[0;36m<module>\u001b[0;34m()\u001b[0m\n\u001b[0;32m----> 1\u001b[0;31m \u001b[0mclassifier\u001b[0m\u001b[0;34m.\u001b[0m\u001b[0mfit\u001b[0m\u001b[0;34m(\u001b[0m\u001b[0mdataset\u001b[0m\u001b[0;34m,\u001b[0m\u001b[0my\u001b[0m\u001b[0;34m,\u001b[0m \u001b[0mepochs\u001b[0m\u001b[0;34m=\u001b[0m\u001b[0;36m15\u001b[0m\u001b[0;34m,\u001b[0m \u001b[0mbatch_size\u001b[0m \u001b[0;34m=\u001b[0m \u001b[0;36m32\u001b[0m\u001b[0;34m,\u001b[0m\u001b[0mshuffle\u001b[0m\u001b[0;34m=\u001b[0m\u001b[0;32mFalse\u001b[0m\u001b[0;34m)\u001b[0m\u001b[0;34m\u001b[0m\u001b[0m\n\u001b[0m",
      "\u001b[0;32m~/anaconda3/lib/python3.6/site-packages/keras/engine/training.py\u001b[0m in \u001b[0;36mfit\u001b[0;34m(self, x, y, batch_size, epochs, verbose, callbacks, validation_split, validation_data, shuffle, class_weight, sample_weight, initial_epoch, steps_per_epoch, validation_steps, **kwargs)\u001b[0m\n\u001b[1;32m   1035\u001b[0m                                         \u001b[0minitial_epoch\u001b[0m\u001b[0;34m=\u001b[0m\u001b[0minitial_epoch\u001b[0m\u001b[0;34m,\u001b[0m\u001b[0;34m\u001b[0m\u001b[0m\n\u001b[1;32m   1036\u001b[0m                                         \u001b[0msteps_per_epoch\u001b[0m\u001b[0;34m=\u001b[0m\u001b[0msteps_per_epoch\u001b[0m\u001b[0;34m,\u001b[0m\u001b[0;34m\u001b[0m\u001b[0m\n\u001b[0;32m-> 1037\u001b[0;31m                                         validation_steps=validation_steps)\n\u001b[0m\u001b[1;32m   1038\u001b[0m \u001b[0;34m\u001b[0m\u001b[0m\n\u001b[1;32m   1039\u001b[0m     def evaluate(self, x=None, y=None,\n",
      "\u001b[0;32m~/anaconda3/lib/python3.6/site-packages/keras/engine/training_arrays.py\u001b[0m in \u001b[0;36mfit_loop\u001b[0;34m(model, f, ins, out_labels, batch_size, epochs, verbose, callbacks, val_f, val_ins, shuffle, callback_metrics, initial_epoch, steps_per_epoch, validation_steps)\u001b[0m\n\u001b[1;32m    197\u001b[0m                     \u001b[0mins_batch\u001b[0m\u001b[0;34m[\u001b[0m\u001b[0mi\u001b[0m\u001b[0;34m]\u001b[0m \u001b[0;34m=\u001b[0m \u001b[0mins_batch\u001b[0m\u001b[0;34m[\u001b[0m\u001b[0mi\u001b[0m\u001b[0;34m]\u001b[0m\u001b[0;34m.\u001b[0m\u001b[0mtoarray\u001b[0m\u001b[0;34m(\u001b[0m\u001b[0;34m)\u001b[0m\u001b[0;34m\u001b[0m\u001b[0m\n\u001b[1;32m    198\u001b[0m \u001b[0;34m\u001b[0m\u001b[0m\n\u001b[0;32m--> 199\u001b[0;31m                 \u001b[0mouts\u001b[0m \u001b[0;34m=\u001b[0m \u001b[0mf\u001b[0m\u001b[0;34m(\u001b[0m\u001b[0mins_batch\u001b[0m\u001b[0;34m)\u001b[0m\u001b[0;34m\u001b[0m\u001b[0m\n\u001b[0m\u001b[1;32m    200\u001b[0m                 \u001b[0mouts\u001b[0m \u001b[0;34m=\u001b[0m \u001b[0mto_list\u001b[0m\u001b[0;34m(\u001b[0m\u001b[0mouts\u001b[0m\u001b[0;34m)\u001b[0m\u001b[0;34m\u001b[0m\u001b[0m\n\u001b[1;32m    201\u001b[0m                 \u001b[0;32mfor\u001b[0m \u001b[0ml\u001b[0m\u001b[0;34m,\u001b[0m \u001b[0mo\u001b[0m \u001b[0;32min\u001b[0m \u001b[0mzip\u001b[0m\u001b[0;34m(\u001b[0m\u001b[0mout_labels\u001b[0m\u001b[0;34m,\u001b[0m \u001b[0mouts\u001b[0m\u001b[0;34m)\u001b[0m\u001b[0;34m:\u001b[0m\u001b[0;34m\u001b[0m\u001b[0m\n",
      "\u001b[0;32m~/anaconda3/lib/python3.6/site-packages/keras/backend/tensorflow_backend.py\u001b[0m in \u001b[0;36m__call__\u001b[0;34m(self, inputs)\u001b[0m\n\u001b[1;32m   2664\u001b[0m                 \u001b[0;32mreturn\u001b[0m \u001b[0mself\u001b[0m\u001b[0;34m.\u001b[0m\u001b[0m_legacy_call\u001b[0m\u001b[0;34m(\u001b[0m\u001b[0minputs\u001b[0m\u001b[0;34m)\u001b[0m\u001b[0;34m\u001b[0m\u001b[0m\n\u001b[1;32m   2665\u001b[0m \u001b[0;34m\u001b[0m\u001b[0m\n\u001b[0;32m-> 2666\u001b[0;31m             \u001b[0;32mreturn\u001b[0m \u001b[0mself\u001b[0m\u001b[0;34m.\u001b[0m\u001b[0m_call\u001b[0m\u001b[0;34m(\u001b[0m\u001b[0minputs\u001b[0m\u001b[0;34m)\u001b[0m\u001b[0;34m\u001b[0m\u001b[0m\n\u001b[0m\u001b[1;32m   2667\u001b[0m         \u001b[0;32melse\u001b[0m\u001b[0;34m:\u001b[0m\u001b[0;34m\u001b[0m\u001b[0m\n\u001b[1;32m   2668\u001b[0m             \u001b[0;32mif\u001b[0m \u001b[0mpy_any\u001b[0m\u001b[0;34m(\u001b[0m\u001b[0mis_tensor\u001b[0m\u001b[0;34m(\u001b[0m\u001b[0mx\u001b[0m\u001b[0;34m)\u001b[0m \u001b[0;32mfor\u001b[0m \u001b[0mx\u001b[0m \u001b[0;32min\u001b[0m \u001b[0minputs\u001b[0m\u001b[0;34m)\u001b[0m\u001b[0;34m:\u001b[0m\u001b[0;34m\u001b[0m\u001b[0m\n",
      "\u001b[0;32m~/anaconda3/lib/python3.6/site-packages/keras/backend/tensorflow_backend.py\u001b[0m in \u001b[0;36m_call\u001b[0;34m(self, inputs)\u001b[0m\n\u001b[1;32m   2634\u001b[0m                                 \u001b[0msymbol_vals\u001b[0m\u001b[0;34m,\u001b[0m\u001b[0;34m\u001b[0m\u001b[0m\n\u001b[1;32m   2635\u001b[0m                                 session)\n\u001b[0;32m-> 2636\u001b[0;31m         \u001b[0mfetched\u001b[0m \u001b[0;34m=\u001b[0m \u001b[0mself\u001b[0m\u001b[0;34m.\u001b[0m\u001b[0m_callable_fn\u001b[0m\u001b[0;34m(\u001b[0m\u001b[0;34m*\u001b[0m\u001b[0marray_vals\u001b[0m\u001b[0;34m)\u001b[0m\u001b[0;34m\u001b[0m\u001b[0m\n\u001b[0m\u001b[1;32m   2637\u001b[0m         \u001b[0;32mreturn\u001b[0m \u001b[0mfetched\u001b[0m\u001b[0;34m[\u001b[0m\u001b[0;34m:\u001b[0m\u001b[0mlen\u001b[0m\u001b[0;34m(\u001b[0m\u001b[0mself\u001b[0m\u001b[0;34m.\u001b[0m\u001b[0moutputs\u001b[0m\u001b[0;34m)\u001b[0m\u001b[0;34m]\u001b[0m\u001b[0;34m\u001b[0m\u001b[0m\n\u001b[1;32m   2638\u001b[0m \u001b[0;34m\u001b[0m\u001b[0m\n",
      "\u001b[0;32m~/anaconda3/lib/python3.6/site-packages/tensorflow/python/client/session.py\u001b[0m in \u001b[0;36m__call__\u001b[0;34m(self, *args, **kwargs)\u001b[0m\n\u001b[1;32m   1380\u001b[0m           ret = tf_session.TF_SessionRunCallable(\n\u001b[1;32m   1381\u001b[0m               \u001b[0mself\u001b[0m\u001b[0;34m.\u001b[0m\u001b[0m_session\u001b[0m\u001b[0;34m.\u001b[0m\u001b[0m_session\u001b[0m\u001b[0;34m,\u001b[0m \u001b[0mself\u001b[0m\u001b[0;34m.\u001b[0m\u001b[0m_handle\u001b[0m\u001b[0;34m,\u001b[0m \u001b[0margs\u001b[0m\u001b[0;34m,\u001b[0m \u001b[0mstatus\u001b[0m\u001b[0;34m,\u001b[0m\u001b[0;34m\u001b[0m\u001b[0m\n\u001b[0;32m-> 1382\u001b[0;31m               run_metadata_ptr)\n\u001b[0m\u001b[1;32m   1383\u001b[0m         \u001b[0;32mif\u001b[0m \u001b[0mrun_metadata\u001b[0m\u001b[0;34m:\u001b[0m\u001b[0;34m\u001b[0m\u001b[0m\n\u001b[1;32m   1384\u001b[0m           \u001b[0mproto_data\u001b[0m \u001b[0;34m=\u001b[0m \u001b[0mtf_session\u001b[0m\u001b[0;34m.\u001b[0m\u001b[0mTF_GetBuffer\u001b[0m\u001b[0;34m(\u001b[0m\u001b[0mrun_metadata_ptr\u001b[0m\u001b[0;34m)\u001b[0m\u001b[0;34m\u001b[0m\u001b[0m\n",
      "\u001b[0;31mKeyboardInterrupt\u001b[0m: "
     ]
    }
   ],
   "source": [
    "# fitting\n",
    "classifier.fit(dataset,y, epochs=15, batch_size = 32,shuffle=True)"
   ]
  },
  {
   "cell_type": "code",
   "execution_count": 22,
   "metadata": {},
   "outputs": [],
   "source": [
    "# 가중치 저장\n",
    "classifier.save_weights(\"weight_58231_37087_1106_01.hd5\")"
   ]
  },
  {
   "cell_type": "code",
   "execution_count": 17,
   "metadata": {
    "scrolled": true
   },
   "outputs": [
    {
     "data": {
      "text/plain": [
       "(13026, 88)"
      ]
     },
     "execution_count": 17,
     "metadata": {},
     "output_type": "execute_result"
    }
   ],
   "source": [
    "# Predict\n",
    "pred = classifier.predict_proba(dataset)\n",
    "pred = np.array(pred)\n",
    "# \n",
    "pred.shape"
   ]
  },
  {
   "cell_type": "markdown",
   "metadata": {},
   "source": [
    "# Best threshold 설정"
   ]
  },
  {
   "cell_type": "markdown",
   "metadata": {},
   "source": [
    "Multi label classification 문제여서 마지막 layer에 softmax 대신 sigmoid를 적용하기 때문에\n",
    "\n",
    "각각의 음에 대한 최적의 임계치를 설정해야한다."
   ]
  },
  {
   "cell_type": "code",
   "execution_count": 26,
   "metadata": {},
   "outputs": [],
   "source": [
    "from sklearn.metrics import matthews_corrcoef"
   ]
  },
  {
   "cell_type": "code",
   "execution_count": 20,
   "metadata": {
    "scrolled": true
   },
   "outputs": [
    {
     "name": "stdout",
     "output_type": "stream",
     "text": [
      "0\n"
     ]
    },
    {
     "name": "stderr",
     "output_type": "stream",
     "text": [
      "/home/ubunt/anaconda3/lib/python3.6/site-packages/sklearn/metrics/classification.py:538: RuntimeWarning: invalid value encountered in double_scalars\n",
      "  mcc = cov_ytyp / np.sqrt(cov_ytyt * cov_ypyp)\n"
     ]
    },
    {
     "name": "stdout",
     "output_type": "stream",
     "text": [
      "1\n",
      "2\n",
      "3\n",
      "4\n",
      "5\n",
      "6\n",
      "7\n",
      "8\n",
      "9\n",
      "10\n",
      "11\n",
      "12\n",
      "13\n",
      "14\n",
      "15\n",
      "16\n",
      "17\n",
      "18\n",
      "19\n",
      "20\n",
      "21\n",
      "22\n",
      "23\n",
      "24\n",
      "25\n",
      "26\n",
      "27\n",
      "28\n",
      "29\n",
      "30\n",
      "31\n",
      "32\n",
      "33\n",
      "34\n",
      "35\n",
      "36\n",
      "37\n",
      "38\n",
      "39\n",
      "40\n",
      "41\n",
      "42\n",
      "43\n",
      "44\n",
      "45\n",
      "46\n",
      "47\n",
      "48\n",
      "49\n",
      "50\n",
      "51\n",
      "52\n",
      "53\n",
      "54\n",
      "55\n",
      "56\n",
      "57\n",
      "58\n",
      "59\n",
      "60\n",
      "61\n",
      "62\n",
      "63\n",
      "64\n",
      "65\n",
      "66\n",
      "67\n",
      "68\n",
      "69\n",
      "70\n",
      "71\n",
      "72\n",
      "73\n",
      "74\n",
      "75\n",
      "76\n",
      "77\n",
      "78\n",
      "79\n",
      "80\n",
      "81\n",
      "82\n",
      "83\n",
      "84\n",
      "85\n",
      "86\n",
      "87\n",
      "best thresholds [0.01  0.01  0.01  0.01  0.01  0.01  0.01  0.01  0.01  0.01  0.01  0.01\n",
      " 0.01  0.01  0.01  0.01  0.01  0.01  0.01  0.06  0.01  0.035 0.01  0.01\n",
      " 0.035 0.01  0.035 0.01  0.035 0.035 0.01  0.035 0.01  0.035 0.01  0.01\n",
      " 0.035 0.01  0.035 0.01  0.035 0.035 0.01  0.11  0.01  0.01  0.01  0.035\n",
      " 0.06  0.01  0.01  0.01  0.11  0.035 0.01  0.01  0.01  0.035 0.01  0.01\n",
      " 0.06  0.01  0.035 0.01  0.035 0.01  0.01  0.01  0.01  0.01  0.01  0.01\n",
      " 0.01  0.01  0.01  0.01  0.01  0.01  0.01  0.01  0.01  0.01  0.01  0.01\n",
      " 0.01  0.01  0.01  0.01 ]\n"
     ]
    }
   ],
   "source": [
    "# threshold 탐색 범위 설정\n",
    "threshold = np.arange(0.01,np.max(pred),0.025)\n",
    "# 변수 선언\n",
    "acc = []\n",
    "accuracies = []\n",
    "best_threshold = np.zeros(pred.shape[1])\n",
    "# 탐색\n",
    "for i in range(pred.shape[1]):\n",
    "    print(i)\n",
    "    # 모델의 예측값\n",
    "    y_prob = np.array(pred[:,i])\n",
    "    # 설정된 범위의 threshold 적용\n",
    "    for j in threshold:\n",
    "        y_pred = [1 if prob>=j else 0 for prob in y_prob]\n",
    "        # 해당 threshold의 정확도\n",
    "        acc.append(matthews_corrcoef(y[:,i],y_pred))\n",
    "    acc = np.array(acc)\n",
    "    # max acc\n",
    "    index = np.where(acc==acc.max())\n",
    "    accuracies.append(acc.max())\n",
    "    best_threshold[i] = threshold[index[0][0]]\n",
    "    acc = []\n",
    "print(\"best thresholds\", best_threshold)"
   ]
  },
  {
   "cell_type": "code",
   "execution_count": 22,
   "metadata": {},
   "outputs": [],
   "source": [
    "# path\n",
    "threshold_path = \"/home/ubunt/wav2mid/threshold/\""
   ]
  },
  {
   "cell_type": "code",
   "execution_count": 24,
   "metadata": {
    "scrolled": true
   },
   "outputs": [],
   "source": [
    "# 예측값 csv 저장\n",
    "pd.DataFrame(pred).to_csv(threshold_path + \"06_acc1_88layer_pred.csv\")"
   ]
  },
  {
   "cell_type": "code",
   "execution_count": 25,
   "metadata": {},
   "outputs": [],
   "source": [
    "# 해당 예측값 best threshold csv 저장\n",
    "pd.DataFrame(best_threshold).to_csv(threshold_path + \"06_acc1_88layer_threshold.csv\")"
   ]
  },
  {
   "cell_type": "code",
   "execution_count": 27,
   "metadata": {},
   "outputs": [],
   "source": [
    "# best threshold 적용된 최종 예측값\n",
    "y_pred = np.array([[1 if pred[i,j]>=best_threshold[j] else 0 for j in range(y[:,:].shape[1])] for i in range(y[:,:].shape[0])])"
   ]
  },
  {
   "cell_type": "code",
   "execution_count": 28,
   "metadata": {},
   "outputs": [
    {
     "data": {
      "text/plain": [
       "array([0, 0, 0, 0, 0, 0, 0, 0, 0, 0, 0, 0, 0, 0, 0, 0, 0, 0, 0, 0, 0, 0,\n",
       "       0, 0, 0, 0, 0, 0, 0, 0, 0, 0, 0, 0, 0, 0, 0, 0, 1, 0, 0, 0, 0, 1,\n",
       "       0, 0, 1, 0, 0, 0, 0, 0, 0, 0, 0, 0, 0, 0, 0, 0, 0, 0, 0, 0, 0, 0,\n",
       "       0, 0, 0, 0, 0, 0, 0, 0, 0, 0, 0, 0, 0, 0, 0, 0, 0, 0, 0, 0, 0, 0])"
      ]
     },
     "execution_count": 28,
     "metadata": {},
     "output_type": "execute_result"
    }
   ],
   "source": [
    "y_pred[0,:]"
   ]
  },
  {
   "cell_type": "code",
   "execution_count": 46,
   "metadata": {},
   "outputs": [
    {
     "name": "stdout",
     "output_type": "stream",
     "text": [
      "(array([43, 46, 61]),)\n",
      "(array([43, 46, 61]),)\n"
     ]
    }
   ],
   "source": [
    "# 정답과 예측 비교\n",
    "i = 10\n",
    "print(np.where(y_pred[i,:] == 1))\n",
    "print(np.where(y[i,:] == 1))"
   ]
  }
 ],
 "metadata": {
  "kernelspec": {
   "display_name": "Python 3",
   "language": "python",
   "name": "python3"
  },
  "language_info": {
   "codemirror_mode": {
    "name": "ipython",
    "version": 3
   },
   "file_extension": ".py",
   "mimetype": "text/x-python",
   "name": "python",
   "nbconvert_exporter": "python",
   "pygments_lexer": "ipython3",
   "version": "3.6.5"
  }
 },
 "nbformat": 4,
 "nbformat_minor": 2
}
