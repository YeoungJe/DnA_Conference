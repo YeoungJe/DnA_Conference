{
 "cells": [
  {
   "cell_type": "markdown",
   "metadata": {},
   "source": [
    "# Import package"
   ]
  },
  {
   "cell_type": "code",
   "execution_count": 1,
   "metadata": {},
   "outputs": [],
   "source": [
    "from __future__ import division\n",
    "from IPython.display import Audio,display\n",
    "from collections import defaultdict\n",
    "from PIL import Image\n",
    "\n",
    "import sys\n",
    "import argparse\n",
    "import numpy as np\n",
    "import matplotlib.pyplot as plt\n",
    "import pretty_midi\n",
    "import pylab\n",
    "import librosa, librosa.display\n",
    "import itertools\n",
    "import os\n",
    "import glob\n",
    "import re\n",
    "import pandas as pd\n",
    "\n",
    "%matplotlib inline\n",
    "plt.rcParams['figure.figsize'] = (18,8)"
   ]
  },
  {
   "cell_type": "markdown",
   "metadata": {},
   "source": [
    "# Load & Check mid file"
   ]
  },
  {
   "cell_type": "code",
   "execution_count": 2,
   "metadata": {},
   "outputs": [],
   "source": [
    "# set directory\n",
    "local_file_path = '../data/piano songs/*.mid'\n",
    "# set image size\n",
    "size = (224, 224)\n",
    "# set sampling rate\n",
    "sr = 22050 "
   ]
  },
  {
   "cell_type": "code",
   "execution_count": 3,
   "metadata": {
    "scrolled": false
   },
   "outputs": [
    {
     "name": "stdout",
     "output_type": "stream",
     "text": [
      " \n",
      "RiverFlowsInYou\n",
      " \n",
      "RiverFlowsInYou \n",
      " [Instrument(program=0, is_drum=False, name=\"Piano\"), Instrument(program=0, is_drum=False, name=\"Track 2\")]\n"
     ]
    },
    {
     "name": "stderr",
     "output_type": "stream",
     "text": [
      "/home/ubunt/anaconda3/lib/python3.6/site-packages/pretty_midi/pretty_midi.py:100: RuntimeWarning: Tempo, Key or Time signature change events found on non-zero tracks.  This is not a valid type 0 or type 1 MIDI file.  Tempo, Key or Time Signature may be wrong.\n",
      "  RuntimeWarning)\n"
     ]
    }
   ],
   "source": [
    "# Check file list in folder\n",
    "for file in glob.glob(local_file_path) :\n",
    "    midi_fn = file\n",
    "    pm = pretty_midi.PrettyMIDI(midi_fn)\n",
    "    tmp_split = file.split('/')\n",
    "    file_name = tmp_split[len(tmp_split)-1]\n",
    "    file_name = file_name.split(\".\")[0]\n",
    "    print(\" \")\n",
    "    print(file_name)\n",
    "    print(\" \")\n",
    "    print(file_name,'\\n',pm.instruments)"
   ]
  },
  {
   "cell_type": "markdown",
   "metadata": {},
   "source": [
    "# Extract spectrogram from mid"
   ]
  },
  {
   "cell_type": "code",
   "execution_count": 4,
   "metadata": {},
   "outputs": [
    {
     "name": "stdout",
     "output_type": "stream",
     "text": [
      "1 RiverFlowsInYou\n"
     ]
    },
    {
     "name": "stderr",
     "output_type": "stream",
     "text": [
      "/home/ubunt/anaconda3/lib/python3.6/site-packages/pretty_midi/pretty_midi.py:100: RuntimeWarning: Tempo, Key or Time signature change events found on non-zero tracks.  This is not a valid type 0 or type 1 MIDI file.  Tempo, Key or Time Signature may be wrong.\n",
      "  RuntimeWarning)\n",
      "/home/ubunt/anaconda3/lib/python3.6/site-packages/librosa/core/spectrum.py:960: UserWarning: amplitude_to_db was called on complex input so phase information will be discarded. To suppress this warning, call amplitude_to_db(np.abs(S)) instead.\n",
      "  warnings.warn('amplitude_to_db was called on complex input so phase '\n",
      "/home/ubunt/anaconda3/lib/python3.6/site-packages/matplotlib/cbook/deprecation.py:107: MatplotlibDeprecationWarning: Adding an axes using the same arguments as a previous axes currently reuses the earlier instance.  In a future version, a new instance will always be created and returned.  Meanwhile, this warning can be suppressed, and the future behavior ensured, by passing a unique label to each axes instance.\n",
      "  warnings.warn(message, mplDeprecation, stacklevel=1)\n"
     ]
    },
    {
     "data": {
      "image/png": "[encoded data removed]",
      "text/plain": [
       "<Figure size 432x288 with 2 Axes>"
      ]
     },
     "metadata": {},
     "output_type": "display_data"
    }
   ],
   "source": [
    "# files count\n",
    "count=0\n",
    "for j, file in enumerate(glob.glob(local_file_path)) :\n",
    "    count += 1\n",
    "    \n",
    "    # save file name\n",
    "    tmp_split = file.split('/')\n",
    "    file_name = tmp_split[len(tmp_split)-1]\n",
    "    file_name = file_name.split(\".\")[0]\n",
    "    print(count, file_name)\n",
    "\n",
    "    # Get the acoustic information from midi file\n",
    "    midi_fn = file\n",
    "    pm = pretty_midi.PrettyMIDI(midi_fn)\n",
    "    \n",
    "    # 미디파일 재생\n",
    "    x = pm.fluidsynth(fs=sr)\n",
    "    # cqt 변환\n",
    "    D = librosa.cqt(x)\n",
    "    \n",
    "    # 눌린 시간 및 피치 탐색\n",
    "    noteons = []\n",
    "    pitchs = []\n",
    "    onset_groups = defaultdict(set)\n",
    "    pitch_groups = defaultdict(list)\n",
    "    \n",
    "    for instrument in pm.instruments: # 악기별로\n",
    "        for note in instrument.notes: # 눌린 음, 시간 저장\n",
    "            if note.start >= 0 and note.start <= (len(x)/sr): # 초단위\n",
    "                noteons.append(note.start) # 시간\n",
    "                onset_groups[note.start].add(note.pitch) # 음\n",
    "    \n",
    "    # 중복제거 및 시간 순 정렬\n",
    "    noteons = list(set(noteons)) \n",
    "    noteons.sort()\n",
    "    \n",
    "    # 시간을 frame단위로 변환\n",
    "    noteons_frame=librosa.time_to_frames(noteons)\n",
    "\n",
    "    inputs = []\n",
    "    \n",
    "    # 눌린 음 기준 좌우 5frame으로 crop\n",
    "    for o in noteons_frame:\n",
    "        inputs.append(D[:,o:(o+5)])\n",
    "    \n",
    "    # array 변환 및 input 조정\n",
    "    inputs = np.array(inputs)\n",
    "    inputs = np.swapaxes(inputs,1,2)\n",
    "    \n",
    "    # spectrogram 저장 *\n",
    "    for i in range(len(noteons_frame)) : # frame 단위\n",
    "        # 눌린음 = label\n",
    "        tmp_label = list(sorted(onset_groups[noteons[i]])) \n",
    "        # label을 1_2_3 형태로 저장\n",
    "        final_int = \"\"\n",
    "        for j in range(len(tmp_label)) :\n",
    "            final_int += str(tmp_label[j]) + ' '\n",
    "        final_int = final_int[:-1]\n",
    "        final_int = re.sub(\" \", \"_\", final_int)\n",
    "        \n",
    "        # save path\n",
    "        path = '/home/ubunt/wav2mid/data/semi/{}'.format(final_int)\n",
    "        \n",
    "        # 폴더 생성\n",
    "        if not(os.path.isdir(path)):\n",
    "            os.makedirs(os.path.join(path))\n",
    "        # 파일 경로\n",
    "        save_path = path + '/' + file_name + str(i) + '.jpg'\n",
    "        \n",
    "        # spectrogram 저장\n",
    "        pylab.axis('off') # no axis\n",
    "        pylab.axes([0., 0., 1., 1.], frameon=False, xticks=[], yticks=[])\n",
    "        librosa.display.specshow(librosa.amplitude_to_db(inputs[i].T,ref=np.max), y_axis='cqt_note', x_axis='time', sr=sr)\n",
    "        pylab.savefig(save_path, bbox_inches=None, pad_inches=0)\n",
    "        image = Image.open(save_path)\n",
    "        resize = image.resize(size)\n",
    "        resize.save(save_path)\n",
    "        image.close()\n",
    "        resize.close()"
   ]
  },
  {
   "cell_type": "code",
   "execution_count": null,
   "metadata": {},
   "outputs": [],
   "source": []
  }
 ],
 "metadata": {
  "kernelspec": {
   "display_name": "Python 3",
   "language": "python",
   "name": "python3"
  },
  "language_info": {
   "codemirror_mode": {
    "name": "ipython",
    "version": 3
   },
   "file_extension": ".py",
   "mimetype": "text/x-python",
   "name": "python",
   "nbconvert_exporter": "python",
   "pygments_lexer": "ipython3",
   "version": "3.6.5"
  }
 },
 "nbformat": 4,
 "nbformat_minor": 2
}
